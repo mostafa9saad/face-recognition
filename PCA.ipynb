{
  "nbformat": 4,
  "nbformat_minor": 0,
  "metadata": {
    "colab": {
      "name": "Assignment_1.ipynb",
      "provenance": []
    },
    "kernelspec": {
      "name": "python3",
      "display_name": "Python 3"
    },
    "language_info": {
      "name": "python"
    }
  },
  "cells": [
    {
      "cell_type": "markdown",
      "metadata": {
        "id": "9GEB967Ye10R"
      },
      "source": [
        "**1. Download the Dataset and Understand the Format**"
      ]
    },
    {
      "cell_type": "code",
      "metadata": {
        "colab": {
          "base_uri": "https://localhost:8080/"
        },
        "id": "bNDhvVpwLjJd",
        "outputId": "fdcde623-d674-41b7-8391-c5d1b5980b06"
      },
      "source": [
        "from google.colab import drive\n",
        "drive.mount('/content/drive')"
      ],
      "execution_count": null,
      "outputs": [
        {
          "output_type": "stream",
          "text": [
            "Mounted at /content/drive\n"
          ],
          "name": "stdout"
        }
      ]
    },
    {
      "cell_type": "code",
      "metadata": {
        "id": "mpEUcJsUryIv"
      },
      "source": [
        "from matplotlib.image import imread\n",
        "import numpy as np\n",
        "from PIL import Image\n",
        "import cv2 \n",
        "import os \n",
        "import glob \n",
        "from numpy import array\n",
        "from numpy import mean\n",
        "from numpy import cov\n",
        "from numpy.linalg import eig\n",
        "import matplotlib.pyplot as plt\n",
        "from numpy import linalg as LA"
      ],
      "execution_count": 35,
      "outputs": []
    },
    {
      "cell_type": "markdown",
      "metadata": {
        "id": "to9cE0VEeiXV"
      },
      "source": [
        "**2. Generate the Data Matrix and the Label vector**"
      ]
    },
    {
      "cell_type": "markdown",
      "metadata": {
        "id": "uba5OMmEfGib"
      },
      "source": [
        "a. Convert every image into a vector of 10304 values corresponding to the image size. "
      ]
    },
    {
      "cell_type": "markdown",
      "metadata": {
        "id": "MZuIXdDbrqEE"
      },
      "source": [
        "b. Stack the 400 vectors into a single Data Matrix D and generate the label\n",
        "vector y.\n",
        "The labels are integers from 1:40 corresponding to the subject id.\n"
      ]
    },
    {
      "cell_type": "code",
      "metadata": {
        "id": "8tMj0SUx2CS3"
      },
      "source": [
        "images = []\n",
        "for filename in sorted(os.listdir(\"/content/drive/MyDrive/ORL\")):\n",
        "    img = cv2.imread(os.path.join(\"/content/drive/MyDrive/ORL\",filename),cv2.IMREAD_GRAYSCALE)\n",
        "    if img is not None:\n",
        "       ar=img.flatten()\n",
        "       images.append(ar)\n",
        "images\n",
        "data =np.array(images)"
      ],
      "execution_count": null,
      "outputs": []
    },
    {
      "cell_type": "code",
      "metadata": {
        "colab": {
          "base_uri": "https://localhost:8080/"
        },
        "id": "Q6kWG0pTD7Rt",
        "outputId": "4346f0ca-6a07-49a5-eede-9aec07b736be"
      },
      "source": [
        "print(data)\n",
        "print(str(len(data))+\"x\"+str(len(data[0])))"
      ],
      "execution_count": null,
      "outputs": [
        {
          "output_type": "stream",
          "text": [
            "[[ 34  34  33 ...  37  40  33]\n",
            " [ 42  41  44 ...  42  43  41]\n",
            " [ 48  49  45 ...  47  46  46]\n",
            " ...\n",
            " [113 112 111 ...  87  87  89]\n",
            " [112 109 116 ...  93  88  92]\n",
            " [111 114 112 ...  88  86  92]]\n",
            "400x10304\n"
          ],
          "name": "stdout"
        }
      ]
    },
    {
      "cell_type": "code",
      "metadata": {
        "id": "5_KOmhXxER38"
      },
      "source": [
        "vec=np.empty([400,1])\n",
        "count=0;\n",
        "for i in range(0,400):\n",
        "  if (i%10==0):\n",
        "    count+=1\n",
        "  vec[i]=count\n",
        "\n",
        "np.array(vec)"
      ],
      "execution_count": null,
      "outputs": []
    },
    {
      "cell_type": "markdown",
      "metadata": {
        "id": "ndr6XevGr45M"
      },
      "source": [
        "**3. Split the Dataset into Training and Test sets**"
      ]
    },
    {
      "cell_type": "markdown",
      "metadata": {
        "id": "dUoEUhEtr9yw"
      },
      "source": [
        "a. From the Data Matrix D400x10304 keep the odd rows for training and\n",
        "the even rows for testing. This will give you 5 instances per person for\n",
        "training and 5 instances per person for testing.\n"
      ]
    },
    {
      "cell_type": "code",
      "metadata": {
        "id": "ReSZO2lnS3Tu"
      },
      "source": [
        "test=[]\n",
        "train=[]\n",
        "\n",
        "for i in range(0,400):\n",
        "  if (i%2==0):\n",
        "    train.append(data[i])\n",
        "  else:\n",
        "    test.append(data[i])\n",
        "\n",
        "train=np.array(train)  \n",
        "test=np.array(test)   "
      ],
      "execution_count": null,
      "outputs": []
    },
    {
      "cell_type": "markdown",
      "metadata": {
        "id": "FZnt-ihLsD3M"
      },
      "source": [
        "b. Split the labels vector accordingly."
      ]
    },
    {
      "cell_type": "code",
      "metadata": {
        "id": "DO-vxkXTS5ne"
      },
      "source": [
        "testVec=[]\n",
        "trainVec=[]\n",
        "\n",
        "for i in range(0,400):\n",
        "  if (i%2==0):\n",
        "    trainVec.append(vec[i])\n",
        "  else:\n",
        "    testVec.append(vec[i])\n",
        "\n",
        "trainVec=np.array(trainVec)  \n",
        "testVec=np.array(testVec)  \n",
        "testVec  "
      ],
      "execution_count": null,
      "outputs": []
    },
    {
      "cell_type": "markdown",
      "metadata": {
        "id": "yBXOAVW7sJmU"
      },
      "source": [
        "**4. Classification using PCA**"
      ]
    },
    {
      "cell_type": "markdown",
      "metadata": {
        "id": "S8cHWtSasXOk"
      },
      "source": [
        "a. Use the pseudo code below for computing the projection matrix U.\n",
        "Define the alpha = {0.8,0.85,0.9,0.95}"
      ]
    },
    {
      "cell_type": "code",
      "metadata": {
        "colab": {
          "base_uri": "https://localhost:8080/"
        },
        "id": "8ro5ndrl65JT",
        "outputId": "0d764061-97ee-4bd4-9cc4-fda9d97578bf"
      },
      "source": [
        "from numpy import mean\n",
        "from numpy import cov\n",
        "from numpy.linalg import eig\n",
        "\n",
        "mean= mean(train.transpose(), axis=1)\n",
        "print('Mean Vector:\\n',mean,'\\n')\n",
        "centered_matrix = train - mean\n",
        "print('Centered Matrix:\\n',centered_matrix,'\\n')\n",
        "cov_matrix = cov(centered_matrix.transpose(),bias=True)\n",
        "print('Covariance Matrix:\\n',np.array(cov_matrix),'\\n')\n",
        "eigen_values, eigen_vectors = np.linalg.eig(cov_matrix)\n",
        "print('Eigen Values:\\n',np.array(eigen_values),'\\n')\n",
        "print('Eigen Vectors:\\n',np.array(eigen_vectors),'\\n')"
      ],
      "execution_count": null,
      "outputs": [
        {
          "output_type": "stream",
          "text": [
            "Mean Vector:\n",
            " [85.885 85.77  86.37  ... 76.785 75.675 74.48 ] \n",
            "\n",
            "Centered Matrix:\n",
            " [[-51.885 -51.77  -53.37  ... -39.785 -35.675 -41.48 ]\n",
            " [-37.885 -36.77  -41.37  ... -29.785 -29.675 -28.48 ]\n",
            " [-46.885 -41.77  -33.37  ... -47.785 -49.675 -45.48 ]\n",
            " ...\n",
            " [ 11.115  19.23   20.63  ...  -0.785  -8.675  -0.48 ]\n",
            " [ 24.115  23.23   24.63  ...  17.215  12.325  15.52 ]\n",
            " [ 26.115  23.23   29.63  ...  16.215  12.325  17.52 ]] \n",
            "\n",
            "Covariance Matrix:\n",
            " [[1281.591775 1262.29855  1264.13755  ... -146.494725  -91.972375\n",
            "   -23.6448  ]\n",
            " [1262.29855  1258.9671   1254.2501   ... -137.17945   -79.40475\n",
            "   -17.0196  ]\n",
            " [1264.13755  1254.2501   1261.8631   ... -145.73045   -86.00975\n",
            "   -25.5926  ]\n",
            " ...\n",
            " [-146.494725 -137.17945  -145.73045  ... 2204.388775 1864.505125\n",
            "  1674.9482  ]\n",
            " [ -91.972375  -79.40475   -86.00975  ... 1864.505125 1923.209375\n",
            "  1763.566   ]\n",
            " [ -23.6448    -17.0196    -25.5926   ... 1674.9482   1763.566\n",
            "  1877.3996  ]] \n",
            "\n",
            "Eigen Values:\n",
            " [ 2.78325759e+06+0.00000000e+00j  2.10585053e+06+0.00000000e+00j\n",
            "  1.05803629e+06+0.00000000e+00j ... -5.17657764e-13-1.08536605e-13j\n",
            "  6.48684709e-13+0.00000000e+00j  5.91909416e-13+0.00000000e+00j] \n",
            "\n",
            "Eigen Vectors:\n",
            " [[-1.86899018e-03+0.00000000e+00j  1.46917551e-02+0.00000000e+00j\n",
            "  -1.95910140e-02+0.00000000e+00j ... -5.90333041e-05-2.79241600e-04j\n",
            "   1.43487208e-03+0.00000000e+00j -4.57428012e-04+0.00000000e+00j]\n",
            " [-1.79784162e-03+0.00000000e+00j  1.45159667e-02+0.00000000e+00j\n",
            "  -1.97135759e-02+0.00000000e+00j ...  3.68704364e-06-5.71720964e-06j\n",
            "   5.21212742e-05+0.00000000e+00j  2.51032816e-05+0.00000000e+00j]\n",
            " [-1.82674037e-03+0.00000000e+00j  1.47603903e-02+0.00000000e+00j\n",
            "  -1.96239275e-02+0.00000000e+00j ...  5.58427025e-05-4.87792317e-05j\n",
            "  -8.49577684e-06+0.00000000e+00j  1.81959037e-05+0.00000000e+00j]\n",
            " ...\n",
            " [-9.45221821e-03+0.00000000e+00j -8.54429809e-03+0.00000000e+00j\n",
            "  -1.15731842e-02+0.00000000e+00j ... -2.33400486e-03-7.84385015e-03j\n",
            "   8.49396563e-03+0.00000000e+00j -1.05596161e-02+0.00000000e+00j]\n",
            " [-8.76481156e-03+0.00000000e+00j -8.41451889e-03+0.00000000e+00j\n",
            "  -1.29494636e-02+0.00000000e+00j ...  5.58520460e-03-1.06972214e-03j\n",
            "  -1.24992612e-02+0.00000000e+00j  1.22058584e-02+0.00000000e+00j]\n",
            " [-9.98755510e-03+0.00000000e+00j -7.48515445e-03+0.00000000e+00j\n",
            "  -1.33614736e-02+0.00000000e+00j ... -3.77961772e-04-6.37065584e-03j\n",
            "   1.33253865e-02+0.00000000e+00j -7.16973115e-03+0.00000000e+00j]] \n",
            "\n"
          ],
          "name": "stdout"
        }
      ]
    },
    {
      "cell_type": "code",
      "metadata": {
        "id": "2N19madxwPkh"
      },
      "source": [
        "eigen_values=np.real(eigen_values)\n",
        "eigen_vectors=np.real(eigen_vectors)"
      ],
      "execution_count": null,
      "outputs": []
    },
    {
      "cell_type": "code",
      "metadata": {
        "colab": {
          "base_uri": "https://localhost:8080/"
        },
        "id": "Pi6SlawR5Xda",
        "outputId": "21d70079-d4a3-4f7a-a054-7e66514436f4"
      },
      "source": [
        "variance_explained = []\n",
        "for i in eigen_values:\n",
        "     variance_explained.append(i/np.sum(eigen_values))\n",
        "        \n",
        "print(np.array(variance_explained))\n"
      ],
      "execution_count": null,
      "outputs": [
        {
          "output_type": "stream",
          "text": [
            "[ 1.76003313e-01  1.33166499e-01  6.69064525e-02 ... -3.27348362e-20\n",
            "  4.10205143e-20  3.74302466e-20]\n"
          ],
          "name": "stdout"
        }
      ]
    },
    {
      "cell_type": "code",
      "metadata": {
        "id": "wDpuE2BG5ldj"
      },
      "source": [
        "def PCA(variance_explained,eigen_vectors,alpha):\n",
        "  sum=0\n",
        "  for i in range(0,10304):\n",
        "      if (sum<alpha):\n",
        "        sum+=variance_explained[i]\n",
        "      else:\n",
        "        break  \n",
        "    \n",
        "  u = (eigen_vectors.T[:][:i]).T  \n",
        "\n",
        "  return u"
      ],
      "execution_count": null,
      "outputs": []
    },
    {
      "cell_type": "markdown",
      "metadata": {
        "id": "Tc6w-pWdsmiW"
      },
      "source": [
        "b. Project the training set, and test sets separately using the same\n",
        "projection matrix."
      ]
    },
    {
      "cell_type": "code",
      "metadata": {
        "colab": {
          "base_uri": "https://localhost:8080/"
        },
        "id": "FOSL8EdVIToP",
        "outputId": "155ff279-1357-4873-ea15-b8a50521fa4c"
      },
      "source": [
        "u1=PCA(variance_explained,eigen_vectors,0.8)\n",
        "train_pca1 = train.dot(u1)\n",
        "print(np.array(train_pca1))\n",
        "print(str(len(train_pca1))+\"x\"+str(len(train_pca1[0])))\n",
        "\n",
        "u2=PCA(variance_explained,eigen_vectors,0.85)\n",
        "train_pca2 = train.dot(u2)\n",
        "print(np.array(train_pca2))\n",
        "print(str(len(train_pca2))+\"x\"+str(len(train_pca2[0])))\n",
        "\n",
        "u3=PCA(variance_explained,eigen_vectors,0.9)\n",
        "train_pca3 = train.dot(u3)\n",
        "print(np.array(train_pca3))\n",
        "print(str(len(train_pca3))+\"x\"+str(len(train_pca3[0])))\n",
        "\n",
        "u4=PCA(variance_explained,eigen_vectors,0.95)\n",
        "train_pca4 = train.dot(u4)\n",
        "print(np.array(train_pca4))\n",
        "print(str(len(train_pca4))+\"x\"+str(len(train_pca4[0])))\n",
        "\n",
        "test_pca1 = test.dot(u1)\n",
        "print(np.array(test_pca1))\n",
        "print(str(len(test_pca1))+\"x\"+str(len(test_pca1[0])))\n",
        "\n",
        "test_pca2 = test.dot(u2)\n",
        "print(np.array(test_pca2))\n",
        "print(str(len(test_pca2))+\"x\"+str(len(test_pca2[0])))\n",
        "\n",
        "test_pca3 = test.dot(u3)\n",
        "print(np.array(test_pca3))\n",
        "print(str(len(test_pca3))+\"x\"+str(len(test_pca3[0])))\n",
        "\n",
        "test_pca4 = test.dot(u4)\n",
        "print(np.array(test_pca4))\n",
        "print(str(len(test_pca4))+\"x\"+str(len(test_pca4[0])))"
      ],
      "execution_count": null,
      "outputs": [
        {
          "output_type": "stream",
          "text": [
            "[[10491.0610717   7697.99222652  1499.95867364 ...  -747.69184295\n",
            "    -19.8388701     40.70192656]\n",
            " [ 9444.86704417  7728.92007512  2648.56617398 ... -1367.15238635\n",
            "   -188.69642269    54.94806759]\n",
            " [10620.91910078  7012.10164288  1852.96251852 ... -1243.61949612\n",
            "   -587.15465775  -140.54070884]\n",
            " ...\n",
            " [ 6820.87457657  7404.54522785    98.73611467 ... -1131.11664927\n",
            "   -674.29750289   300.84904841]\n",
            " [ 6689.62960563  8274.3793326     98.92666466 ... -1254.42510215\n",
            "   -748.0385714    261.51857161]\n",
            " [ 6977.75805691  7653.14751623   -81.79295737 ... -1246.16301567\n",
            "    -88.529011     177.95803258]]\n",
            "200x36\n",
            "[[ 1.04910611e+04  7.69799223e+03  1.49995867e+03 ... -3.23313956e+02\n",
            "  -2.46099324e+02  4.88377863e+01]\n",
            " [ 9.44486704e+03  7.72892008e+03  2.64856617e+03 ... -1.31695075e+02\n",
            "  -8.23844487e+00  1.41870372e+01]\n",
            " [ 1.06209191e+04  7.01210164e+03  1.85296252e+03 ... -5.83591014e+01\n",
            "  -5.08861912e+01  2.46376891e+01]\n",
            " ...\n",
            " [ 6.82087458e+03  7.40454523e+03  9.87361147e+01 ... -3.93222433e+02\n",
            "   8.15152605e+01 -2.95491192e+02]\n",
            " [ 6.68962961e+03  8.27437933e+03  9.89266647e+01 ... -3.01561463e+02\n",
            "  -1.47128437e+02 -8.16687148e+01]\n",
            " [ 6.97775806e+03  7.65314752e+03 -8.17929574e+01 ...  1.82770991e+02\n",
            "  -1.27328317e+02 -4.90634890e+02]]\n",
            "200x52\n",
            "[[10491.0610717   7697.99222652  1499.95867364 ...   291.1277472\n",
            "   -406.19957621   131.71606455]\n",
            " [ 9444.86704417  7728.92007512  2648.56617398 ...  -267.67512644\n",
            "   -382.63238341   226.49061302]\n",
            " [10620.91910078  7012.10164288  1852.96251852 ...   309.46679323\n",
            "   -325.15693652  -122.41833651]\n",
            " ...\n",
            " [ 6820.87457657  7404.54522785    98.73611467 ...   193.5796643\n",
            "    -14.3578043   -197.63424431]\n",
            " [ 6689.62960563  8274.3793326     98.92666466 ...    78.29060526\n",
            "     87.08261918  -228.77816206]\n",
            " [ 6977.75805691  7653.14751623   -81.79295737 ...   132.37144291\n",
            "   -143.99088697  -189.16457559]]\n",
            "200x77\n",
            "[[10491.0610717   7697.99222652  1499.95867364 ...   217.45872242\n",
            "    255.56769017  -215.96332193]\n",
            " [ 9444.86704417  7728.92007512  2648.56617398 ...   -46.26749514\n",
            "    268.35869963   100.5427744 ]\n",
            " [10620.91910078  7012.10164288  1852.96251852 ...   138.59707444\n",
            "    362.55680954  -155.52562461]\n",
            " ...\n",
            " [ 6820.87457657  7404.54522785    98.73611467 ...   -65.73874516\n",
            "    192.62239939   -38.67041527]\n",
            " [ 6689.62960563  8274.3793326     98.92666466 ...   -83.9539768\n",
            "    320.77651603   218.82252616]\n",
            " [ 6977.75805691  7653.14751623   -81.79295737 ...   -73.15897173\n",
            "     92.92068207    44.21499658]]\n",
            "200x116\n",
            "[[ 1.05247081e+04  7.93221700e+03  1.00358242e+03 ... -1.15989775e+03\n",
            "  -3.44299647e+02  4.85799396e+02]\n",
            " [ 1.08757198e+04  7.41776726e+03  3.06847233e+02 ... -1.33923880e+03\n",
            "  -5.21573345e+02  2.06499051e+02]\n",
            " [ 1.09385971e+04  7.90736787e+03  5.66199158e+02 ... -1.07069710e+03\n",
            "  -7.15778441e+02 -6.87154636e+01]\n",
            " ...\n",
            " [ 7.01553051e+03  7.93444684e+03  3.84195734e+02 ... -1.16194973e+03\n",
            "  -6.09742832e+02  6.24089440e-01]\n",
            " [ 6.94197597e+03  7.75617763e+03  2.58299428e+02 ... -1.18294127e+03\n",
            "  -1.96238373e+02 -5.40180612e+01]\n",
            " [ 7.14679387e+03  8.20150889e+03  2.29157565e+02 ... -1.47320005e+03\n",
            "  -2.00860185e+02  1.55110824e+02]]\n",
            "200x36\n",
            "[[10524.70814123  7932.21700192  1003.58241784 ...   -75.89205518\n",
            "     51.07720231  -209.8280222 ]\n",
            " [10875.71980826  7417.76726282   306.84723333 ...    62.33958062\n",
            "     89.91243931  -115.42207343]\n",
            " [10938.59706131  7907.36787312   566.19915806 ...   174.30857877\n",
            "   -240.35210211    85.81831263]\n",
            " ...\n",
            " [ 7015.53050654  7934.44684042   384.19573406 ...   -78.06446818\n",
            "   -407.26881172  -243.23493841]\n",
            " [ 6941.97597045  7756.17762893   258.29942796 ...   227.21368745\n",
            "   -107.52396796  -226.32124465]\n",
            " [ 7146.79387101  8201.50889115   229.1575649  ...    77.61456685\n",
            "   -306.21825743  -175.58169651]]\n",
            "200x52\n",
            "[[10524.70814123  7932.21700192  1003.58241784 ...    21.61264775\n",
            "   -195.84115558  -103.36129669]\n",
            " [10875.71980826  7417.76726282   306.84723333 ...   119.39681411\n",
            "   -235.7189133   -380.91175613]\n",
            " [10938.59706131  7907.36787312   566.19915806 ...   -59.99697093\n",
            "    -76.49463378  -297.93488772]\n",
            " ...\n",
            " [ 7015.53050654  7934.44684042   384.19573406 ...   152.6505022\n",
            "   -130.95351197  -143.00597289]\n",
            " [ 6941.97597045  7756.17762893   258.29942796 ...   101.50161618\n",
            "   -292.58808176  -221.08379659]\n",
            " [ 7146.79387101  8201.50889115   229.1575649  ...   148.60939899\n",
            "   -120.81879541  -113.63127355]]\n",
            "200x77\n",
            "[[10524.70814123  7932.21700192  1003.58241784 ...   -80.75901498\n",
            "    134.27257532    71.63887765]\n",
            " [10875.71980826  7417.76726282   306.84723333 ...   -58.21706364\n",
            "     77.33530439   110.46884166]\n",
            " [10938.59706131  7907.36787312   566.19915806 ...   123.32788981\n",
            "    122.23030051   -40.6322426 ]\n",
            " ...\n",
            " [ 7015.53050654  7934.44684042   384.19573406 ...    23.89392612\n",
            "    283.423569      89.93894896]\n",
            " [ 6941.97597045  7756.17762893   258.29942796 ...   -39.54693317\n",
            "    110.02359549   -33.67765135]\n",
            " [ 7146.79387101  8201.50889115   229.1575649  ...    48.33726123\n",
            "    239.29147691    80.7365793 ]]\n",
            "200x116\n"
          ],
          "name": "stdout"
        }
      ]
    },
    {
      "cell_type": "markdown",
      "metadata": {
        "id": "xYxzcYfBc_lk"
      },
      "source": [
        "c. Use a simple classifier (first Nearest Neighbor to determine the class\n",
        "labels)."
      ]
    },
    {
      "cell_type": "code",
      "metadata": {
        "id": "s4XV8I6AD4nK"
      },
      "source": [
        "trainVec=np.ravel(trainVec)\n",
        "testVec=np.ravel(testVec)"
      ],
      "execution_count": null,
      "outputs": []
    },
    {
      "cell_type": "code",
      "metadata": {
        "id": "YTA90xokVdWn"
      },
      "source": [
        "def firstNearestNeighbor(train,test,trainVec,testVec):\n",
        "  from sklearn.preprocessing import StandardScaler\n",
        "  scaler = StandardScaler()\n",
        "  scaler.fit(train)\n",
        "\n",
        "  train = scaler.transform(train)\n",
        "  test = scaler.transform(test)\n",
        "\n",
        "  from sklearn.neighbors import KNeighborsClassifier\n",
        "  classifier = KNeighborsClassifier(n_neighbors=1)\n",
        "  classifier.fit(train, trainVec)\n",
        "\n",
        "  y_pred = classifier.predict(test)\n",
        "\n",
        "  from sklearn.metrics import classification_report, confusion_matrix\n",
        "  print(confusion_matrix(testVec, y_pred))\n",
        "  print(classification_report(testVec, y_pred))"
      ],
      "execution_count": 29,
      "outputs": []
    },
    {
      "cell_type": "markdown",
      "metadata": {
        "id": "QDoU5ERmdBTW"
      },
      "source": [
        "d. Report Accuracy for every value of alpha separately.\n"
      ]
    },
    {
      "cell_type": "code",
      "metadata": {
        "colab": {
          "base_uri": "https://localhost:8080/"
        },
        "id": "_TqMC29dXSlc",
        "outputId": "944ba189-c35e-4faa-cf18-9480debcf27c"
      },
      "source": [
        "firstNearestNeighbor(train_pca1,test_pca1,trainVec,testVec)\n",
        "firstNearestNeighbor(train_pca2,test_pca2,trainVec,testVec)\n",
        "firstNearestNeighbor(train_pca3,test_pca3,trainVec,testVec)\n",
        "firstNearestNeighbor(train_pca4,test_pca4,trainVec,testVec)"
      ],
      "execution_count": 31,
      "outputs": [
        {
          "output_type": "stream",
          "text": [
            "[[4 0 0 ... 0 0 0]\n",
            " [0 4 0 ... 0 0 1]\n",
            " [0 0 4 ... 0 0 0]\n",
            " ...\n",
            " [0 0 0 ... 5 0 0]\n",
            " [0 0 0 ... 0 5 0]\n",
            " [0 0 0 ... 0 0 4]]\n",
            "              precision    recall  f1-score   support\n",
            "\n",
            "         1.0       0.80      0.80      0.80         5\n",
            "         2.0       1.00      0.80      0.89         5\n",
            "         3.0       1.00      0.80      0.89         5\n",
            "         4.0       1.00      1.00      1.00         5\n",
            "         5.0       1.00      1.00      1.00         5\n",
            "         6.0       1.00      0.80      0.89         5\n",
            "         7.0       0.71      1.00      0.83         5\n",
            "         8.0       1.00      1.00      1.00         5\n",
            "         9.0       0.83      1.00      0.91         5\n",
            "        10.0       1.00      1.00      1.00         5\n",
            "        11.0       1.00      0.80      0.89         5\n",
            "        12.0       1.00      1.00      1.00         5\n",
            "        13.0       1.00      1.00      1.00         5\n",
            "        14.0       0.83      1.00      0.91         5\n",
            "        15.0       1.00      1.00      1.00         5\n",
            "        16.0       0.83      1.00      0.91         5\n",
            "        17.0       1.00      1.00      1.00         5\n",
            "        18.0       1.00      0.60      0.75         5\n",
            "        19.0       0.71      1.00      0.83         5\n",
            "        20.0       1.00      1.00      1.00         5\n",
            "        21.0       1.00      0.60      0.75         5\n",
            "        22.0       1.00      1.00      1.00         5\n",
            "        23.0       1.00      1.00      1.00         5\n",
            "        24.0       0.83      1.00      0.91         5\n",
            "        25.0       1.00      0.80      0.89         5\n",
            "        26.0       1.00      0.80      0.89         5\n",
            "        27.0       0.83      1.00      0.91         5\n",
            "        28.0       1.00      1.00      1.00         5\n",
            "        29.0       1.00      0.20      0.33         5\n",
            "        30.0       1.00      1.00      1.00         5\n",
            "        31.0       1.00      1.00      1.00         5\n",
            "        32.0       0.71      1.00      0.83         5\n",
            "        33.0       1.00      0.80      0.89         5\n",
            "        34.0       0.83      1.00      0.91         5\n",
            "        35.0       0.67      0.40      0.50         5\n",
            "        36.0       0.50      1.00      0.67         5\n",
            "        37.0       1.00      1.00      1.00         5\n",
            "        38.0       1.00      1.00      1.00         5\n",
            "        39.0       1.00      1.00      1.00         5\n",
            "        40.0       0.80      0.80      0.80         5\n",
            "\n",
            "    accuracy                           0.90       200\n",
            "   macro avg       0.92      0.90      0.89       200\n",
            "weighted avg       0.92      0.90      0.89       200\n",
            "\n",
            "[[5 0 0 ... 0 0 0]\n",
            " [0 4 0 ... 0 0 0]\n",
            " [0 0 5 ... 0 0 0]\n",
            " ...\n",
            " [0 0 0 ... 5 0 0]\n",
            " [0 0 0 ... 0 5 0]\n",
            " [0 0 0 ... 0 0 4]]\n",
            "              precision    recall  f1-score   support\n",
            "\n",
            "         1.0       1.00      1.00      1.00         5\n",
            "         2.0       1.00      0.80      0.89         5\n",
            "         3.0       1.00      1.00      1.00         5\n",
            "         4.0       1.00      1.00      1.00         5\n",
            "         5.0       1.00      1.00      1.00         5\n",
            "         6.0       1.00      0.60      0.75         5\n",
            "         7.0       1.00      1.00      1.00         5\n",
            "         8.0       1.00      1.00      1.00         5\n",
            "         9.0       0.83      1.00      0.91         5\n",
            "        10.0       1.00      1.00      1.00         5\n",
            "        11.0       1.00      0.80      0.89         5\n",
            "        12.0       1.00      1.00      1.00         5\n",
            "        13.0       1.00      1.00      1.00         5\n",
            "        14.0       0.83      1.00      0.91         5\n",
            "        15.0       0.83      1.00      0.91         5\n",
            "        16.0       0.83      1.00      0.91         5\n",
            "        17.0       1.00      1.00      1.00         5\n",
            "        18.0       0.75      0.60      0.67         5\n",
            "        19.0       0.71      1.00      0.83         5\n",
            "        20.0       1.00      1.00      1.00         5\n",
            "        21.0       1.00      0.60      0.75         5\n",
            "        22.0       1.00      1.00      1.00         5\n",
            "        23.0       1.00      1.00      1.00         5\n",
            "        24.0       0.62      1.00      0.77         5\n",
            "        25.0       1.00      0.80      0.89         5\n",
            "        26.0       1.00      0.80      0.89         5\n",
            "        27.0       1.00      0.80      0.89         5\n",
            "        28.0       1.00      1.00      1.00         5\n",
            "        29.0       1.00      0.20      0.33         5\n",
            "        30.0       1.00      0.80      0.89         5\n",
            "        31.0       1.00      1.00      1.00         5\n",
            "        32.0       1.00      1.00      1.00         5\n",
            "        33.0       0.80      0.80      0.80         5\n",
            "        34.0       1.00      1.00      1.00         5\n",
            "        35.0       0.67      0.40      0.50         5\n",
            "        36.0       0.36      1.00      0.53         5\n",
            "        37.0       1.00      1.00      1.00         5\n",
            "        38.0       1.00      1.00      1.00         5\n",
            "        39.0       1.00      1.00      1.00         5\n",
            "        40.0       1.00      0.80      0.89         5\n",
            "\n",
            "    accuracy                           0.90       200\n",
            "   macro avg       0.93      0.89      0.89       200\n",
            "weighted avg       0.93      0.90      0.89       200\n",
            "\n",
            "[[5 0 0 ... 0 0 0]\n",
            " [0 4 0 ... 0 0 0]\n",
            " [0 0 5 ... 0 0 0]\n",
            " ...\n",
            " [0 0 0 ... 5 0 0]\n",
            " [0 0 0 ... 0 5 0]\n",
            " [0 0 0 ... 0 0 4]]\n",
            "              precision    recall  f1-score   support\n",
            "\n",
            "         1.0       1.00      1.00      1.00         5\n",
            "         2.0       1.00      0.80      0.89         5\n",
            "         3.0       1.00      1.00      1.00         5\n",
            "         4.0       1.00      0.80      0.89         5\n",
            "         5.0       1.00      1.00      1.00         5\n",
            "         6.0       1.00      0.60      0.75         5\n",
            "         7.0       1.00      1.00      1.00         5\n",
            "         8.0       1.00      0.60      0.75         5\n",
            "         9.0       1.00      1.00      1.00         5\n",
            "        10.0       1.00      1.00      1.00         5\n",
            "        11.0       0.80      0.80      0.80         5\n",
            "        12.0       1.00      1.00      1.00         5\n",
            "        13.0       1.00      1.00      1.00         5\n",
            "        14.0       0.80      0.80      0.80         5\n",
            "        15.0       0.83      1.00      0.91         5\n",
            "        16.0       0.62      1.00      0.77         5\n",
            "        17.0       1.00      1.00      1.00         5\n",
            "        18.0       0.38      0.60      0.46         5\n",
            "        19.0       1.00      1.00      1.00         5\n",
            "        20.0       1.00      0.80      0.89         5\n",
            "        21.0       1.00      0.40      0.57         5\n",
            "        22.0       1.00      0.80      0.89         5\n",
            "        23.0       1.00      1.00      1.00         5\n",
            "        24.0       0.42      1.00      0.59         5\n",
            "        25.0       1.00      0.80      0.89         5\n",
            "        26.0       1.00      0.60      0.75         5\n",
            "        27.0       1.00      0.80      0.89         5\n",
            "        28.0       1.00      1.00      1.00         5\n",
            "        29.0       1.00      0.20      0.33         5\n",
            "        30.0       1.00      0.80      0.89         5\n",
            "        31.0       1.00      1.00      1.00         5\n",
            "        32.0       1.00      1.00      1.00         5\n",
            "        33.0       0.67      0.80      0.73         5\n",
            "        34.0       1.00      1.00      1.00         5\n",
            "        35.0       0.50      0.20      0.29         5\n",
            "        36.0       0.38      1.00      0.56         5\n",
            "        37.0       0.83      1.00      0.91         5\n",
            "        38.0       1.00      1.00      1.00         5\n",
            "        39.0       1.00      1.00      1.00         5\n",
            "        40.0       1.00      0.80      0.89         5\n",
            "\n",
            "    accuracy                           0.85       200\n",
            "   macro avg       0.91      0.85      0.85       200\n",
            "weighted avg       0.91      0.85      0.85       200\n",
            "\n",
            "[[3 0 0 ... 0 0 0]\n",
            " [0 4 0 ... 0 0 0]\n",
            " [0 0 3 ... 0 0 0]\n",
            " ...\n",
            " [0 0 0 ... 4 0 0]\n",
            " [0 0 0 ... 0 5 0]\n",
            " [0 0 0 ... 0 0 4]]\n",
            "              precision    recall  f1-score   support\n",
            "\n",
            "         1.0       1.00      0.60      0.75         5\n",
            "         2.0       1.00      0.80      0.89         5\n",
            "         3.0       1.00      0.60      0.75         5\n",
            "         4.0       1.00      0.80      0.89         5\n",
            "         5.0       1.00      0.80      0.89         5\n",
            "         6.0       1.00      0.60      0.75         5\n",
            "         7.0       0.80      0.80      0.80         5\n",
            "         8.0       1.00      0.40      0.57         5\n",
            "         9.0       1.00      0.80      0.89         5\n",
            "        10.0       1.00      0.80      0.89         5\n",
            "        11.0       1.00      0.80      0.89         5\n",
            "        12.0       1.00      0.60      0.75         5\n",
            "        13.0       1.00      1.00      1.00         5\n",
            "        14.0       0.83      1.00      0.91         5\n",
            "        15.0       0.80      0.80      0.80         5\n",
            "        16.0       0.57      0.80      0.67         5\n",
            "        17.0       1.00      1.00      1.00         5\n",
            "        18.0       0.25      0.60      0.35         5\n",
            "        19.0       0.80      0.80      0.80         5\n",
            "        20.0       1.00      0.80      0.89         5\n",
            "        21.0       1.00      0.40      0.57         5\n",
            "        22.0       0.50      0.80      0.62         5\n",
            "        23.0       1.00      0.60      0.75         5\n",
            "        24.0       0.19      1.00      0.32         5\n",
            "        25.0       1.00      0.40      0.57         5\n",
            "        26.0       1.00      0.40      0.57         5\n",
            "        27.0       1.00      0.60      0.75         5\n",
            "        28.0       1.00      1.00      1.00         5\n",
            "        29.0       1.00      0.20      0.33         5\n",
            "        30.0       1.00      0.60      0.75         5\n",
            "        31.0       1.00      0.60      0.75         5\n",
            "        32.0       1.00      1.00      1.00         5\n",
            "        33.0       0.50      0.40      0.44         5\n",
            "        34.0       0.83      1.00      0.91         5\n",
            "        35.0       1.00      0.20      0.33         5\n",
            "        36.0       0.33      1.00      0.50         5\n",
            "        37.0       1.00      1.00      1.00         5\n",
            "        38.0       1.00      0.80      0.89         5\n",
            "        39.0       1.00      1.00      1.00         5\n",
            "        40.0       0.80      0.80      0.80         5\n",
            "\n",
            "    accuracy                           0.73       200\n",
            "   macro avg       0.88      0.72      0.75       200\n",
            "weighted avg       0.88      0.72      0.75       200\n",
            "\n"
          ],
          "name": "stdout"
        }
      ]
    },
    {
      "cell_type": "markdown",
      "metadata": {
        "id": "TcywEchYrwfF"
      },
      "source": [
        "e. Can you find a relation between alpha and classification accuracy?           \n",
        "  **Ans.** yes, as the alpha increases the accuracy decreases"
      ]
    },
    {
      "cell_type": "markdown",
      "metadata": {
        "id": "4ZmYIFfMx6E2"
      },
      "source": [
        "**6. Classifier Tuning (PCA)**"
      ]
    },
    {
      "cell_type": "markdown",
      "metadata": {
        "id": "CbFCmoxMcQKG"
      },
      "source": [
        "Set the number of neighbors in the K-NN classifier to 1,3,5,7."
      ]
    },
    {
      "cell_type": "code",
      "metadata": {
        "id": "7ZjLIOQGZrmS"
      },
      "source": [
        "def K_NN(train,test,trainVec,testVec):\n",
        "  acc=[]\n",
        "  ks=[]\n",
        "  for i in range(1, 8,2):\n",
        "    ks.append(i)\n",
        "    classifier = KNeighborsClassifier(n_neighbors=i)\n",
        "    classifier.fit(train, trainVec)  \n",
        "    test_predict = classifier.predict(test)   \n",
        "    true_predicted_count=0\n",
        "    for j in range(0,200):\n",
        "       if test_predict[j] ==testVec[j]:\n",
        "         true_predicted_count+=1\n",
        "    accuracy=true_predicted_count/200\n",
        "    accuracy=accuracy*100\n",
        "    print(\"at k = \",i,\", accuracy = \", accuracy)\n",
        "    acc.append((true_predicted_count/200)*100)\n",
        "  plt.plot(ks, acc)\n",
        "  plt.xlabel('value of k')\n",
        "  plt.ylabel('accuracy') \n",
        "  plt.show()   "
      ],
      "execution_count": 32,
      "outputs": []
    },
    {
      "cell_type": "markdown",
      "metadata": {
        "id": "FCRJiQWdcUgM"
      },
      "source": [
        "Plot (or tabulate) the performance measure (accuracy) against the K\n",
        "value."
      ]
    },
    {
      "cell_type": "code",
      "metadata": {
        "colab": {
          "base_uri": "https://localhost:8080/",
          "height": 1000
        },
        "id": "8kxAvkXpaVMs",
        "outputId": "5dc937db-8d31-4991-9f58-b31b0c5cfc2b"
      },
      "source": [
        "K_NN(train_pca1,test_pca1,trainVec,testVec)\n",
        "K_NN(train_pca2,test_pca2,trainVec,testVec)\n",
        "K_NN(train_pca3,test_pca3,trainVec,testVec)\n",
        "K_NN(train_pca4,test_pca4,trainVec,testVec)"
      ],
      "execution_count": 37,
      "outputs": [
        {
          "output_type": "stream",
          "text": [
            "at k =  1 , accuracy =  90.0\n",
            "at k =  3 , accuracy =  84.5\n",
            "at k =  5 , accuracy =  78.5\n",
            "at k =  7 , accuracy =  73.0\n"
          ],
          "name": "stdout"
        },
        {
          "output_type": "display_data",
          "data": {
            "image/png": "[encoded data removed]",
            "text/plain": [
              "<Figure size 432x288 with 1 Axes>"
            ]
          },
          "metadata": {
            "tags": [],
            "needs_background": "light"
          }
        },
        {
          "output_type": "stream",
          "text": [
            "at k =  1 , accuracy =  89.5\n",
            "at k =  3 , accuracy =  79.0\n",
            "at k =  5 , accuracy =  72.0\n",
            "at k =  7 , accuracy =  68.0\n"
          ],
          "name": "stdout"
        },
        {
          "output_type": "display_data",
          "data": {
            "image/png": "[encoded data removed]",
            "text/plain": [
              "<Figure size 432x288 with 1 Axes>"
            ]
          },
          "metadata": {
            "tags": [],
            "needs_background": "light"
          }
        },
        {
          "output_type": "stream",
          "text": [
            "at k =  1 , accuracy =  85.0\n",
            "at k =  3 , accuracy =  74.0\n",
            "at k =  5 , accuracy =  64.5\n",
            "at k =  7 , accuracy =  55.50000000000001\n"
          ],
          "name": "stdout"
        },
        {
          "output_type": "display_data",
          "data": {
            "image/png": "[encoded data removed]",
            "text/plain": [
              "<Figure size 432x288 with 1 Axes>"
            ]
          },
          "metadata": {
            "tags": [],
            "needs_background": "light"
          }
        },
        {
          "output_type": "stream",
          "text": [
            "at k =  1 , accuracy =  72.5\n",
            "at k =  3 , accuracy =  53.5\n",
            "at k =  5 , accuracy =  43.5\n",
            "at k =  7 , accuracy =  35.5\n"
          ],
          "name": "stdout"
        },
        {
          "output_type": "display_data",
          "data": {
            "image/png": "[encoded data removed]",
            "text/plain": [
              "<Figure size 432x288 with 1 Axes>"
            ]
          },
          "metadata": {
            "tags": [],
            "needs_background": "light"
          }
        }
      ]
    },
    {
      "cell_type": "markdown",
      "metadata": {
        "id": "jL2z8RdjeBOe"
      },
      "source": [
        "**7. Compare vs Non-Face Images**"
      ]
    },
    {
      "cell_type": "code",
      "metadata": {
        "colab": {
          "base_uri": "https://localhost:8080/"
        },
        "id": "PQPL5TWT3TKk",
        "outputId": "2f758777-eeca-4bc5-c329-b593eaba5422"
      },
      "source": [
        "images = []\n",
        "for filename in sorted(os.listdir(\"/content/drive/MyDrive/NonFaces\")):\n",
        "    img = cv2.imread(os.path.join(\"/content/drive/MyDrive/NonFaces\",filename),cv2.IMREAD_GRAYSCALE)\n",
        "    img=cv2.resize(img, (92,112), interpolation = cv2.INTER_AREA)\n",
        "    if img is not None:\n",
        "       ar=img.flatten()\n",
        "\n",
        "       images.append(ar)\n",
        "#images\n",
        "data =np.array(images)\n",
        "data"
      ],
      "execution_count": 38,
      "outputs": [
        {
          "output_type": "execute_result",
          "data": {
            "text/plain": [
              "array([[ 34,  34,  33, ...,  37,  40,  33],\n",
              "       [ 42,  41,  44, ...,  42,  43,  41],\n",
              "       [ 48,  49,  45, ...,  47,  46,  46],\n",
              "       ...,\n",
              "       [ 84,  83,  81, ..., 106, 102, 107],\n",
              "       [104, 107, 104, ..., 117, 123, 116],\n",
              "       [131, 137, 130, ..., 146, 148, 153]], dtype=uint8)"
            ]
          },
          "metadata": {
            "tags": []
          },
          "execution_count": 38
        }
      ]
    },
    {
      "cell_type": "code",
      "metadata": {
        "id": "0TNOxMEi49xS"
      },
      "source": [
        "vec=np.empty([400,1])\n",
        "for i in range(0,200):\n",
        "  vec[i]=0\n",
        "for i in range(200,400):\n",
        "  vec[i]=1"
      ],
      "execution_count": 52,
      "outputs": []
    },
    {
      "cell_type": "code",
      "metadata": {
        "colab": {
          "base_uri": "https://localhost:8080/"
        },
        "id": "IZfRCLjp5jIC",
        "outputId": "c482e7f3-4af2-44da-ff5d-369d4bdf7faa"
      },
      "source": [
        "test=[]\n",
        "train=[]\n",
        "\n",
        "for i in range(0,400):\n",
        "  if (i%2==0):\n",
        "    train.append(data[i])\n",
        "  else:\n",
        "    test.append(data[i])\n",
        "\n",
        "train=np.array(train)  \n",
        "test=np.array(test)   \n",
        "train.shape"
      ],
      "execution_count": 40,
      "outputs": [
        {
          "output_type": "execute_result",
          "data": {
            "text/plain": [
              "(200, 10304)"
            ]
          },
          "metadata": {
            "tags": []
          },
          "execution_count": 40
        }
      ]
    },
    {
      "cell_type": "code",
      "metadata": {
        "id": "pOl-98nd5u1H"
      },
      "source": [
        "testVec=[]\n",
        "trainVec=[]\n",
        "\n",
        "for i in range(0,400):\n",
        "  if (i%2==0):\n",
        "    trainVec.append(vec[i])\n",
        "  else:\n",
        "    testVec.append(vec[i])\n",
        "\n",
        "trainVec=np.array(trainVec)  \n",
        "testVec=np.array(testVec)  "
      ],
      "execution_count": 53,
      "outputs": []
    },
    {
      "cell_type": "code",
      "metadata": {
        "id": "x2yV_zZJ6DAT"
      },
      "source": [
        "from numpy import mean\n",
        "from numpy import cov\n",
        "from numpy.linalg import eig\n",
        "\n",
        "mean= mean(train.transpose(), axis=1)\n",
        "print('Mean Vector:\\n',mean,'\\n')\n",
        "centered_matrix = train - mean\n",
        "print('Centered Matrix:\\n',centered_matrix,'\\n')\n",
        "cov_matrix = cov(centered_matrix.transpose(),bias=True)\n",
        "print('Covariance Matrix:\\n',cov_matrix,'\\n')\n",
        "eigen_values, eigen_vectors = np.linalg.eig(cov_matrix)\n",
        "print('Eigen Values:\\n',eigen_values,'\\n')\n",
        "print('Eigen Vectors:\\n',eigen_vectors,'\\n')"
      ],
      "execution_count": null,
      "outputs": []
    },
    {
      "cell_type": "code",
      "metadata": {
        "id": "EDcKkJXb9q9Z"
      },
      "source": [
        "eigen_values=np.real(eigen_values)\n",
        "eigen_vectors=np.real(eigen_vectors)"
      ],
      "execution_count": 43,
      "outputs": []
    },
    {
      "cell_type": "code",
      "metadata": {
        "colab": {
          "base_uri": "https://localhost:8080/"
        },
        "id": "MGz3ObOw9z8J",
        "outputId": "ab4fb0d3-15e9-4bfa-d849-0eed071919e3"
      },
      "source": [
        "variance_explained = []\n",
        "for i in eigen_values:\n",
        "     variance_explained.append(i/np.sum(eigen_values))\n",
        "        \n",
        "print(np.array(variance_explained))\n"
      ],
      "execution_count": 44,
      "outputs": [
        {
          "output_type": "stream",
          "text": [
            "[2.40103391e-01 1.28040427e-01 5.59072356e-02 ... 1.28133264e-20\n",
            " 1.54645478e-20 2.70579131e-20]\n"
          ],
          "name": "stdout"
        }
      ]
    },
    {
      "cell_type": "code",
      "metadata": {
        "id": "LDcsNGcB990p"
      },
      "source": [
        "u1=PCA(variance_explained,eigen_vectors,0.8)\n",
        "train_pca1 = train.dot(u1)\n",
        "print(np.array(train_pca1))\n",
        "print(str(len(train_pca1))+\"x\"+str(len(train_pca1[0])))\n",
        "\n",
        "u2=PCA(variance_explained,eigen_vectors,0.85)\n",
        "train_pca2 = train.dot(u2)\n",
        "print(np.array(train_pca2))\n",
        "print(str(len(train_pca2))+\"x\"+str(len(train_pca2[0])))\n",
        "\n",
        "u3=PCA(variance_explained,eigen_vectors,0.9)\n",
        "train_pca3 = train.dot(u3)\n",
        "print(np.array(train_pca3))\n",
        "print(str(len(train_pca3))+\"x\"+str(len(train_pca3[0])))\n",
        "\n",
        "u4=PCA(variance_explained,eigen_vectors,0.95)\n",
        "train_pca4 = train.dot(u4)\n",
        "print(np.array(train_pca4))\n",
        "print(str(len(train_pca4))+\"x\"+str(len(train_pca4[0])))\n",
        "\n",
        "test_pca1 = test.dot(u1)\n",
        "print(np.array(test_pca1))\n",
        "print(str(len(test_pca1))+\"x\"+str(len(test_pca1[0])))\n",
        "\n",
        "test_pca2 = test.dot(u2)\n",
        "print(np.array(test_pca2))\n",
        "print(str(len(test_pca2))+\"x\"+str(len(test_pca2[0])))\n",
        "\n",
        "test_pca3 = test.dot(u3)\n",
        "print(np.array(test_pca3))\n",
        "print(str(len(test_pca3))+\"x\"+str(len(test_pca3[0])))\n",
        "\n",
        "test_pca4 = test.dot(u4)\n",
        "print(np.array(test_pca4))\n",
        "print(str(len(test_pca4))+\"x\"+str(len(test_pca4[0])))"
      ],
      "execution_count": null,
      "outputs": []
    },
    {
      "cell_type": "code",
      "metadata": {
        "id": "cidiR357-Csr"
      },
      "source": [
        "trainVec=np.ravel(trainVec)\n",
        "testVec=np.ravel(testVec)"
      ],
      "execution_count": 54,
      "outputs": []
    },
    {
      "cell_type": "code",
      "metadata": {
        "colab": {
          "base_uri": "https://localhost:8080/"
        },
        "id": "rafyiHSE-G3T",
        "outputId": "d4b9c36f-b82e-48ea-99b8-edb321311f7a"
      },
      "source": [
        "firstNearestNeighbor(train_pca1,test_pca1,trainVec,testVec)\n",
        "firstNearestNeighbor(train_pca2,test_pca2,trainVec,testVec)\n",
        "firstNearestNeighbor(train_pca3,test_pca3,trainVec,testVec)\n",
        "firstNearestNeighbor(train_pca4,test_pca4,trainVec,testVec)"
      ],
      "execution_count": 57,
      "outputs": [
        {
          "output_type": "stream",
          "text": [
            "[[100   0]\n",
            " [ 17  83]]\n",
            "              precision    recall  f1-score   support\n",
            "\n",
            "         0.0       0.85      1.00      0.92       100\n",
            "         1.0       1.00      0.83      0.91       100\n",
            "\n",
            "    accuracy                           0.92       200\n",
            "   macro avg       0.93      0.92      0.91       200\n",
            "weighted avg       0.93      0.92      0.91       200\n",
            "\n",
            "[[100   0]\n",
            " [ 26  74]]\n",
            "              precision    recall  f1-score   support\n",
            "\n",
            "         0.0       0.79      1.00      0.88       100\n",
            "         1.0       1.00      0.74      0.85       100\n",
            "\n",
            "    accuracy                           0.87       200\n",
            "   macro avg       0.90      0.87      0.87       200\n",
            "weighted avg       0.90      0.87      0.87       200\n",
            "\n",
            "[[100   0]\n",
            " [ 46  54]]\n",
            "              precision    recall  f1-score   support\n",
            "\n",
            "         0.0       0.68      1.00      0.81       100\n",
            "         1.0       1.00      0.54      0.70       100\n",
            "\n",
            "    accuracy                           0.77       200\n",
            "   macro avg       0.84      0.77      0.76       200\n",
            "weighted avg       0.84      0.77      0.76       200\n",
            "\n",
            "[[100   0]\n",
            " [ 68  32]]\n",
            "              precision    recall  f1-score   support\n",
            "\n",
            "         0.0       0.60      1.00      0.75       100\n",
            "         1.0       1.00      0.32      0.48       100\n",
            "\n",
            "    accuracy                           0.66       200\n",
            "   macro avg       0.80      0.66      0.62       200\n",
            "weighted avg       0.80      0.66      0.62       200\n",
            "\n"
          ],
          "name": "stdout"
        }
      ]
    },
    {
      "cell_type": "code",
      "metadata": {
        "colab": {
          "base_uri": "https://localhost:8080/"
        },
        "id": "yBvxiYlbCDKP",
        "outputId": "b90b2a9e-8023-488e-b0f2-b212e632b0cb"
      },
      "source": [
        "newData=np.delete(data,np.s_[300:400],axis=0)\n",
        "newData.shape\n",
        "vec=np.empty([300,1])\n",
        "count=0;\n",
        "for i in range(0,200):\n",
        "\n",
        "  vec[i]=0\n",
        "\n",
        "i=0\n",
        "for i in range(200,300):\n",
        "\n",
        "  vec[i]=1 \n",
        "print(vec.shape)\n",
        "test=[]\n",
        "train=[]\n",
        "testVec=[]\n",
        "trainVec=[]\n",
        "\n",
        "for i in range(0,300):\n",
        "  if (i%2==0):\n",
        "    trainVec.append(vec[i])\n",
        "  else:\n",
        "    testVec.append(vec[i])\n",
        "\n",
        "trainVec=np.array(trainVec)  \n",
        "testVec=np.array(testVec)  \n",
        "for i in range(0,300):\n",
        "  if (i%2==0):\n",
        "    train.append(newData[i])\n",
        "  else:\n",
        "    test.append(newData[i])\n",
        "train=np.array(train)\n",
        "test=np.array(test)\n",
        "print(train.shape)\n",
        "print(test.shape)"
      ],
      "execution_count": 66,
      "outputs": [
        {
          "output_type": "stream",
          "text": [
            "(300, 1)\n",
            "(150, 10304)\n",
            "(150, 10304)\n"
          ],
          "name": "stdout"
        }
      ]
    },
    {
      "cell_type": "code",
      "metadata": {
        "colab": {
          "base_uri": "https://localhost:8080/"
        },
        "id": "BByaz3DBrEzl",
        "outputId": "22be5f8d-921c-4273-ead0-595a6812ab34"
      },
      "source": [
        "from numpy import mean\n",
        "from numpy import cov\n",
        "from numpy.linalg import eig\n",
        "\n",
        "mean= mean(train.transpose(), axis=1)\n",
        "print('Mean Vector:\\n',mean,'\\n')\n",
        "centered_matrix = train - mean\n",
        "print('Centered Matrix:\\n',centered_matrix,'\\n')\n",
        "cov_matrix = cov(centered_matrix.transpose(),bias=True)\n",
        "print('Covariance Matrix:\\n',cov_matrix,'\\n')\n",
        "eigen_values, eigen_vectors = np.linalg.eig(cov_matrix)\n",
        "print('Eigen Values:\\n',eigen_values,'\\n')\n",
        "print('Eigen Vectors:\\n',eigen_vectors,'\\n')"
      ],
      "execution_count": 68,
      "outputs": [
        {
          "output_type": "stream",
          "text": [
            "Mean Vector:\n",
            " [108.55333333 107.26       107.44666667 ...  78.88        79.3\n",
            "  80.66666667] \n",
            "\n",
            "Centered Matrix:\n",
            " [[-74.55333333 -73.26       -74.44666667 ... -41.88       -39.3\n",
            "  -47.66666667]\n",
            " [-60.55333333 -58.26       -62.44666667 ... -31.88       -33.3\n",
            "  -34.66666667]\n",
            " [-69.55333333 -63.26       -54.44666667 ... -49.88       -53.3\n",
            "  -51.66666667]\n",
            " ...\n",
            " [ 42.44666667  62.74        59.55333333 ...  16.12        13.7\n",
            "    3.33333333]\n",
            " [-28.55333333 -28.26       -32.44666667 ...   2.12        -7.3\n",
            "  -16.66666667]\n",
            " [-36.55333333 -52.26       -29.44666667 ...  -5.88       -10.3\n",
            "  -30.66666667]] \n",
            "\n",
            "Covariance Matrix:\n",
            " [[3088.76715556 2787.13613333 2709.17951111 ...  834.83306667\n",
            "   895.62066667 1021.62444444]\n",
            " [2787.13613333 3040.24573333 2971.94386667 ...  802.0712\n",
            "   859.742       996.59333333]\n",
            " [2709.17951111 2971.94386667 2969.40715556 ...  726.16693333\n",
            "   781.246       919.23555556]\n",
            " ...\n",
            " [ 834.83306667  802.0712      726.16693333 ... 2040.97226667\n",
            "  1979.38933333 1884.28      ]\n",
            " [ 895.62066667  859.742       781.246      ... 1979.38933333\n",
            "  2076.77       1992.26      ]\n",
            " [1021.62444444  996.59333333  919.23555556 ... 1884.28\n",
            "  1992.26       2213.15555556]] \n",
            "\n",
            "Eigen Values:\n",
            " [ 6.66265911e+06+0.00000000e+00j  3.31488687e+06+0.00000000e+00j\n",
            "  1.90868751e+06+0.00000000e+00j ... -1.54052827e-13-9.52511913e-14j\n",
            " -4.09206068e-13+0.00000000e+00j  2.40322453e-13+0.00000000e+00j] \n",
            "\n",
            "Eigen Vectors:\n",
            " [[-1.38378590e-02+0.00000000e+00j  6.30568504e-03+0.00000000e+00j\n",
            "  -9.95028816e-03+0.00000000e+00j ... -1.43004774e-03-9.60150613e-04j\n",
            "   8.27863245e-04+0.00000000e+00j  3.12372866e-04+0.00000000e+00j]\n",
            " [-1.43760476e-02+0.00000000e+00j  4.54639971e-03+0.00000000e+00j\n",
            "  -1.19220928e-02+0.00000000e+00j ... -5.79958547e-05-2.86977295e-05j\n",
            "   3.73009262e-05+0.00000000e+00j  2.03238686e-05+0.00000000e+00j]\n",
            " [-1.38750560e-02+0.00000000e+00j  4.28100305e-03+0.00000000e+00j\n",
            "  -1.16227727e-02+0.00000000e+00j ... -6.70040019e-05-4.16319529e-05j\n",
            "   4.60314417e-05+0.00000000e+00j  2.30149768e-05+0.00000000e+00j]\n",
            " ...\n",
            " [-8.79692198e-03+0.00000000e+00j  7.92886571e-03+0.00000000e+00j\n",
            "  -2.07689344e-03+0.00000000e+00j ...  5.75159772e-03-4.99274772e-03j\n",
            "  -4.95447855e-03+0.00000000e+00j -1.14443374e-02+0.00000000e+00j]\n",
            " [-8.87796602e-03+0.00000000e+00j  7.99072178e-03+0.00000000e+00j\n",
            "  -2.00384182e-03+0.00000000e+00j ... -1.99520115e-02+3.30269951e-03j\n",
            "   1.18502134e-02+0.00000000e+00j  1.24930865e-02+0.00000000e+00j]\n",
            " [-9.54327812e-03+0.00000000e+00j  9.28656515e-03+0.00000000e+00j\n",
            "  -8.83062297e-04+0.00000000e+00j ...  3.21499241e-03-3.67046876e-03j\n",
            "  -2.85319822e-03+0.00000000e+00j -7.39734343e-03+0.00000000e+00j]] \n",
            "\n"
          ],
          "name": "stdout"
        }
      ]
    },
    {
      "cell_type": "code",
      "metadata": {
        "id": "-Yr6x1v4y_iU"
      },
      "source": [
        "eigen_values=np.real(eigen_values)\n",
        "eigen_vectors=np.real(eigen_vectors)"
      ],
      "execution_count": 69,
      "outputs": []
    },
    {
      "cell_type": "code",
      "metadata": {
        "colab": {
          "base_uri": "https://localhost:8080/"
        },
        "id": "pWJZ1kKxzBRO",
        "outputId": "d51d4c4c-d413-4255-eed6-d638424fa26b"
      },
      "source": [
        "variance_explained = []\n",
        "for i in eigen_values:\n",
        "     variance_explained.append(i/np.sum(eigen_values))\n",
        "        \n",
        "print(np.array(variance_explained))"
      ],
      "execution_count": 70,
      "outputs": [
        {
          "output_type": "stream",
          "text": [
            "[ 2.42807582e-01  1.20804570e-01  6.95583837e-02 ... -5.61415400e-21\n",
            " -1.49127149e-20  8.75808181e-21]\n"
          ],
          "name": "stdout"
        }
      ]
    },
    {
      "cell_type": "code",
      "metadata": {
        "colab": {
          "base_uri": "https://localhost:8080/"
        },
        "id": "8LXiTeh7zEwX",
        "outputId": "45620ee6-4874-43f1-a0fa-86232f548035"
      },
      "source": [
        "u1=PCA(variance_explained,eigen_vectors,0.8)\n",
        "train_pca1 = train.dot(u1)\n",
        "print(np.array(train_pca1))\n",
        "print(str(len(train_pca1))+\"x\"+str(len(train_pca1[0])))\n",
        "\n",
        "u2=PCA(variance_explained,eigen_vectors,0.85)\n",
        "train_pca2 = train.dot(u2)\n",
        "print(np.array(train_pca2))\n",
        "print(str(len(train_pca2))+\"x\"+str(len(train_pca2[0])))\n",
        "\n",
        "u3=PCA(variance_explained,eigen_vectors,0.9)\n",
        "train_pca3 = train.dot(u3)\n",
        "print(np.array(train_pca3))\n",
        "print(str(len(train_pca3))+\"x\"+str(len(train_pca3[0])))\n",
        "\n",
        "u4=PCA(variance_explained,eigen_vectors,0.95)\n",
        "train_pca4 = train.dot(u4)\n",
        "print(np.array(train_pca4))\n",
        "print(str(len(train_pca4))+\"x\"+str(len(train_pca4[0])))\n",
        "\n",
        "test_pca1 = test.dot(u1)\n",
        "print(np.array(test_pca1))\n",
        "print(str(len(test_pca1))+\"x\"+str(len(test_pca1[0])))\n",
        "\n",
        "test_pca2 = test.dot(u2)\n",
        "print(np.array(test_pca2))\n",
        "print(str(len(test_pca2))+\"x\"+str(len(test_pca2[0])))\n",
        "\n",
        "test_pca3 = test.dot(u3)\n",
        "print(np.array(test_pca3))\n",
        "print(str(len(test_pca3))+\"x\"+str(len(test_pca3[0])))\n",
        "\n",
        "test_pca4 = test.dot(u4)\n",
        "print(np.array(test_pca4))\n",
        "print(str(len(test_pca4))+\"x\"+str(len(test_pca4[0])))"
      ],
      "execution_count": 71,
      "outputs": [
        {
          "output_type": "stream",
          "text": [
            "[[ -6104.99539441 -10604.47515062  -4571.54337581 ...    221.76904066\n",
            "     203.87899263    285.51793427]\n",
            " [ -4484.14352041 -10664.11623624  -4915.67122868 ...    176.40239483\n",
            "    -780.77134106   -176.51525085]\n",
            " [ -5776.34793405 -10649.10115253  -3867.80882813 ...    268.05681969\n",
            "    -868.8183499    -504.67048277]\n",
            " ...\n",
            " [ -4346.59281771  -4289.88757345  -3475.39287996 ...    113.41513792\n",
            "     246.52152108   -348.20371167]\n",
            " [ -2443.75894939  -3300.01188968  -3364.4370758  ...   -107.69004326\n",
            "     268.81495543   -299.76131633]\n",
            " [ -4239.55808022  -4557.90074223  -4742.19759717 ...    -78.63895278\n",
            "   -1453.03752619    169.53954173]]\n",
            "150x28\n",
            "[[-6.10499539e+03 -1.06044752e+04 -4.57154338e+03 ...  4.03999698e+01\n",
            "   7.64818448e+01 -2.12948716e+02]\n",
            " [-4.48414352e+03 -1.06641162e+04 -4.91567123e+03 ...  1.73685108e+02\n",
            "   4.16027987e+02 -4.68813004e+02]\n",
            " [-5.77634793e+03 -1.06491012e+04 -3.86780883e+03 ... -1.34131651e+02\n",
            "   3.60714979e+02 -5.65482119e+02]\n",
            " ...\n",
            " [-4.34659282e+03 -4.28988757e+03 -3.47539288e+03 ... -5.03357153e+02\n",
            "  -5.01852152e+01  2.94805220e-01]\n",
            " [-2.44375895e+03 -3.30001189e+03 -3.36443708e+03 ...  9.66825338e+01\n",
            "   3.58169558e+02 -6.72360159e+02]\n",
            " [-4.23955808e+03 -4.55790074e+03 -4.74219760e+03 ... -2.94719747e+02\n",
            "  -7.15599800e+02  1.71946054e+02]]\n",
            "150x38\n",
            "[[ -6104.99539441 -10604.47515062  -4571.54337581 ...   -221.80361469\n",
            "    -194.4156859     343.7609946 ]\n",
            " [ -4484.14352041 -10664.11623624  -4915.67122868 ...   -446.05018726\n",
            "    -326.29154062    707.46890833]\n",
            " [ -5776.34793405 -10649.10115253  -3867.80882813 ...   -227.05092387\n",
            "    -336.00703628    546.86842374]\n",
            " ...\n",
            " [ -4346.59281771  -4289.88757345  -3475.39287996 ...   -755.81067329\n",
            "      46.4786062     339.81735495]\n",
            " [ -2443.75894939  -3300.01188968  -3364.4370758  ...   -373.16132747\n",
            "     365.6307096      58.94325263]\n",
            " [ -4239.55808022  -4557.90074223  -4742.19759717 ...   -269.03769917\n",
            "    -789.35516342    -23.85688919]]\n",
            "150x55\n",
            "[[-6.10499539e+03 -1.06044752e+04 -4.57154338e+03 ... -1.31735305e+02\n",
            "   2.40236322e+02  3.91598191e+02]\n",
            " [-4.48414352e+03 -1.06641162e+04 -4.91567123e+03 ... -7.57733170e+00\n",
            "   9.23555019e+01  1.21116241e+02]\n",
            " [-5.77634793e+03 -1.06491012e+04 -3.86780883e+03 ... -6.77903470e+02\n",
            "  -1.94800400e+02 -3.35290953e+02]\n",
            " ...\n",
            " [-4.34659282e+03 -4.28988757e+03 -3.47539288e+03 ... -3.45370415e+02\n",
            "   9.51128120e+01 -2.78979385e+02]\n",
            " [-2.44375895e+03 -3.30001189e+03 -3.36443708e+03 ... -1.77954362e+02\n",
            "   1.61337727e+02  2.12708456e+02]\n",
            " [-4.23955808e+03 -4.55790074e+03 -4.74219760e+03 ...  2.16769146e+01\n",
            "   1.90701222e+01 -6.63647757e+01]]\n",
            "150x82\n",
            "[[-6.23568705e+03 -1.01286912e+04 -4.79238407e+03 ...  1.57184288e+02\n",
            "  -6.74301733e+01 -3.34872415e+02]\n",
            " [-7.28040317e+03 -9.71577264e+03 -5.17099124e+03 ... -2.82241013e+02\n",
            "  -4.77154719e+01  1.61006934e+02]\n",
            " [-7.04117046e+03 -1.01058210e+04 -4.94928360e+03 ...  3.07802548e+02\n",
            "  -3.67371536e+02 -7.18368012e+02]\n",
            " ...\n",
            " [-2.60903961e+03 -5.62851746e+03 -3.29037326e+03 ...  6.41072936e+01\n",
            "  -2.71010777e+02 -1.47484691e+02]\n",
            " [-1.85225980e+03 -3.32758431e+03 -2.85662498e+03 ...  1.41829982e+02\n",
            "  -4.57225613e+02 -1.62128885e+02]\n",
            " [-4.53740787e+03 -5.71207218e+03 -3.50194219e+03 ...  1.11474334e+02\n",
            "  -3.55737120e+02 -8.89020977e+00]]\n",
            "150x28\n",
            "[[ -6235.68704654 -10128.69124071  -4792.38407256 ...     53.37279812\n",
            "     554.03988456    116.95920381]\n",
            " [ -7280.40317025  -9715.77264026  -5170.99123845 ...   -256.83997915\n",
            "     656.7599919    -137.97401922]\n",
            " [ -7041.170458   -10105.82097643  -4949.2836006  ...   -361.61179972\n",
            "     640.23225189   -137.85925782]\n",
            " ...\n",
            " [ -2609.03960612  -5628.51746273  -3290.37326135 ...   -489.47282622\n",
            "     372.14498327    -83.77549897]\n",
            " [ -1852.25979583  -3327.58430747  -2856.62497764 ...    274.65280044\n",
            "     205.52065963   -155.07617302]\n",
            " [ -4537.40786921  -5712.07217552  -3501.94219415 ...     61.23599321\n",
            "     307.51058574   -252.18534519]]\n",
            "150x38\n",
            "[[ -6235.68704654 -10128.69124071  -4792.38407256 ...   -288.82998262\n",
            "    -128.60287998    236.02032951]\n",
            " [ -7280.40317025  -9715.77264026  -5170.99123845 ...   -464.02194623\n",
            "    -434.36051337     48.60534222]\n",
            " [ -7041.170458   -10105.82097643  -4949.2836006  ...   -193.27264644\n",
            "    -184.55653698    228.26758282]\n",
            " ...\n",
            " [ -2609.03960612  -5628.51746273  -3290.37326135 ...   -499.21330828\n",
            "    -199.26290393    160.59281793]\n",
            " [ -1852.25979583  -3327.58430747  -2856.62497764 ...   -219.69838459\n",
            "    -213.50661751    139.20860393]\n",
            " [ -4537.40786921  -5712.07217552  -3501.94219415 ...   -315.92867319\n",
            "    -329.50026094    268.2133746 ]]\n",
            "150x55\n",
            "[[ -6235.68704654 -10128.69124071  -4792.38407256 ...   -226.08847649\n",
            "      69.96052668   -205.8492728 ]\n",
            " [ -7280.40317025  -9715.77264026  -5170.99123845 ...   -128.11621649\n",
            "     184.9542807      41.36022186]\n",
            " [ -7041.170458   -10105.82097643  -4949.2836006  ...    -17.35080198\n",
            "     -30.95513489   -101.00860755]\n",
            " ...\n",
            " [ -2609.03960612  -5628.51746273  -3290.37326135 ...    -57.17248437\n",
            "     188.69590649    145.95273173]\n",
            " [ -1852.25979583  -3327.58430747  -2856.62497764 ...   -210.8301079\n",
            "      98.04196896     81.24291902]\n",
            " [ -4537.40786921  -5712.07217552  -3501.94219415 ...   -163.7018311\n",
            "     143.58464518    -47.1398663 ]]\n",
            "150x82\n"
          ],
          "name": "stdout"
        }
      ]
    },
    {
      "cell_type": "code",
      "metadata": {
        "id": "VunbQEihzNGD"
      },
      "source": [
        "trainVec=np.ravel(trainVec)\n",
        "testVec=np.ravel(testVec)"
      ],
      "execution_count": 72,
      "outputs": []
    },
    {
      "cell_type": "code",
      "metadata": {
        "colab": {
          "base_uri": "https://localhost:8080/"
        },
        "id": "SGb349sazRqb",
        "outputId": "88095da3-2d22-4a6a-afd3-d01a0047b8f7"
      },
      "source": [
        "firstNearestNeighbor(train_pca1,test_pca1,trainVec,testVec)\n",
        "firstNearestNeighbor(train_pca2,test_pca2,trainVec,testVec)\n",
        "firstNearestNeighbor(train_pca3,test_pca3,trainVec,testVec)\n",
        "firstNearestNeighbor(train_pca4,test_pca4,trainVec,testVec)"
      ],
      "execution_count": 73,
      "outputs": [
        {
          "output_type": "stream",
          "text": [
            "[[100   0]\n",
            " [ 21  29]]\n",
            "              precision    recall  f1-score   support\n",
            "\n",
            "         0.0       0.83      1.00      0.90       100\n",
            "         1.0       1.00      0.58      0.73        50\n",
            "\n",
            "    accuracy                           0.86       150\n",
            "   macro avg       0.91      0.79      0.82       150\n",
            "weighted avg       0.88      0.86      0.85       150\n",
            "\n",
            "[[100   0]\n",
            " [ 28  22]]\n",
            "              precision    recall  f1-score   support\n",
            "\n",
            "         0.0       0.78      1.00      0.88       100\n",
            "         1.0       1.00      0.44      0.61        50\n",
            "\n",
            "    accuracy                           0.81       150\n",
            "   macro avg       0.89      0.72      0.74       150\n",
            "weighted avg       0.85      0.81      0.79       150\n",
            "\n",
            "[[100   0]\n",
            " [ 40  10]]\n",
            "              precision    recall  f1-score   support\n",
            "\n",
            "         0.0       0.71      1.00      0.83       100\n",
            "         1.0       1.00      0.20      0.33        50\n",
            "\n",
            "    accuracy                           0.73       150\n",
            "   macro avg       0.86      0.60      0.58       150\n",
            "weighted avg       0.81      0.73      0.67       150\n",
            "\n",
            "[[100   0]\n",
            " [ 45   5]]\n",
            "              precision    recall  f1-score   support\n",
            "\n",
            "         0.0       0.69      1.00      0.82       100\n",
            "         1.0       1.00      0.10      0.18        50\n",
            "\n",
            "    accuracy                           0.70       150\n",
            "   macro avg       0.84      0.55      0.50       150\n",
            "weighted avg       0.79      0.70      0.60       150\n",
            "\n"
          ],
          "name": "stdout"
        }
      ]
    },
    {
      "cell_type": "markdown",
      "metadata": {
        "id": "cqwvqox21Ook"
      },
      "source": [
        ""
      ]
    },
    {
      "cell_type": "markdown",
      "metadata": {
        "id": "2vK7ScchJkTo"
      },
      "source": [
        "**PCA1**"
      ]
    },
    {
      "cell_type": "code",
      "metadata": {
        "colab": {
          "base_uri": "https://localhost:8080/",
          "height": 279
        },
        "id": "tij45u_0znT5",
        "outputId": "9bf4eceb-7814-4dc2-a7a8-e0795c2841f2"
      },
      "source": [
        "  ks=[100,200]\n",
        "  acc=[86,92]\n",
        "  plt.plot(ks, acc)\n",
        "  plt.xlabel('the number of non-faces')\n",
        "  plt.ylabel('accuracy') \n",
        "  plt.show() "
      ],
      "execution_count": 74,
      "outputs": [
        {
          "output_type": "display_data",
          "data": {
            "image/png": "[encoded data removed]",
            "text/plain": [
              "<Figure size 432x288 with 1 Axes>"
            ]
          },
          "metadata": {
            "tags": [],
            "needs_background": "light"
          }
        }
      ]
    },
    {
      "cell_type": "markdown",
      "metadata": {
        "id": "UdYXBA9yJnbW"
      },
      "source": [
        "**PCA2**"
      ]
    },
    {
      "cell_type": "code",
      "metadata": {
        "colab": {
          "base_uri": "https://localhost:8080/",
          "height": 279
        },
        "id": "P8mL6MWh940B",
        "outputId": "c82ca7db-6e1c-4986-becb-d45adc132ae6"
      },
      "source": [
        "  ks=[100,200]\n",
        "  acc=[81,87]\n",
        "  plt.plot(ks, acc)\n",
        "  plt.xlabel('the number of non-faces')\n",
        "  plt.ylabel('accuracy') \n",
        "  plt.show() "
      ],
      "execution_count": 77,
      "outputs": [
        {
          "output_type": "display_data",
          "data": {
            "image/png": "[encoded data removed]",
            "text/plain": [
              "<Figure size 432x288 with 1 Axes>"
            ]
          },
          "metadata": {
            "tags": [],
            "needs_background": "light"
          }
        }
      ]
    },
    {
      "cell_type": "markdown",
      "metadata": {
        "id": "wYLoGSHoJqv7"
      },
      "source": [
        "**PCA3**"
      ]
    },
    {
      "cell_type": "code",
      "metadata": {
        "colab": {
          "base_uri": "https://localhost:8080/",
          "height": 279
        },
        "id": "8nvl4gWK-Hkq",
        "outputId": "2f45591b-fb8d-4ccf-885d-293b247bb47b"
      },
      "source": [
        "  ks=[100,200]\n",
        "  acc=[73,77]\n",
        "  plt.plot(ks, acc)\n",
        "  plt.xlabel('the number of non-faces')\n",
        "  plt.ylabel('accuracy') \n",
        "  plt.show() "
      ],
      "execution_count": 78,
      "outputs": [
        {
          "output_type": "display_data",
          "data": {
            "image/png": "[encoded data removed]",
            "text/plain": [
              "<Figure size 432x288 with 1 Axes>"
            ]
          },
          "metadata": {
            "tags": [],
            "needs_background": "light"
          }
        }
      ]
    },
    {
      "cell_type": "markdown",
      "metadata": {
        "id": "SNPP92oFJtXz"
      },
      "source": [
        "**PCA4**"
      ]
    },
    {
      "cell_type": "code",
      "metadata": {
        "colab": {
          "base_uri": "https://localhost:8080/",
          "height": 279
        },
        "id": "klmDsTKb-IJc",
        "outputId": "bd09a7ba-f099-4222-bb85-f43b8a68ac9e"
      },
      "source": [
        "  ks=[100,200]\n",
        "  acc=[66,70]\n",
        "  plt.plot(ks, acc)\n",
        "  plt.xlabel('the number of non-faces')\n",
        "  plt.ylabel('accuracy') \n",
        "  plt.show() "
      ],
      "execution_count": 79,
      "outputs": [
        {
          "output_type": "display_data",
          "data": {
            "image/png": "[encoded data removed]",
            "text/plain": [
              "<Figure size 432x288 with 1 Axes>"
            ]
          },
          "metadata": {
            "tags": [],
            "needs_background": "light"
          }
        }
      ]
    }
  ]
}