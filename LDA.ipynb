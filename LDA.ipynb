{
  "nbformat": 4,
  "nbformat_minor": 0,
  "metadata": {
    "colab": {
      "name": "Project1.ipynb",
      "provenance": [],
      "collapsed_sections": []
    },
    "kernelspec": {
      "display_name": "Python 3",
      "name": "python3"
    },
    "language_info": {
      "name": "python"
    }
  },
  "cells": [
    {
      "cell_type": "code",
      "metadata": {
        "colab": {
          "base_uri": "https://localhost:8080/"
        },
        "id": "9EVB4zAyLl4f",
        "outputId": "6ec69ef3-e735-4742-bd10-4899589b0181"
      },
      "source": [
        "from google.colab import drive\n",
        "drive.mount('/content/drive')"
      ],
      "execution_count": 3,
      "outputs": [
        {
          "output_type": "stream",
          "text": [
            "Mounted at /content/drive\n"
          ],
          "name": "stdout"
        }
      ]
    },
    {
      "cell_type": "code",
      "metadata": {
        "id": "M6cV1I_RNjB7"
      },
      "source": [
        "from matplotlib.image import imread\n",
        "import numpy as np\n",
        "from PIL import Image\n",
        "import cv2 \n",
        "import os \n",
        "import glob \n",
        "from numpy.linalg import eig\n",
        "from numpy import array\n",
        "import matplotlib.pyplot as plt\n",
        "from sklearn.neighbors import KNeighborsClassifier\n",
        "from numpy import linalg as LA\n"
      ],
      "execution_count": 2,
      "outputs": []
    },
    {
      "cell_type": "code",
      "metadata": {
        "colab": {
          "base_uri": "https://localhost:8080/"
        },
        "id": "Czjt9imDV7SH",
        "outputId": "0706904a-e8d9-416b-d8aa-c2c9d174aa55"
      },
      "source": [
        "\n",
        "images = []\n",
        "for filename in sorted(os.listdir(\"/content/drive/MyDrive/ORL\")):\n",
        "    img = cv2.imread(os.path.join(\"/content/drive/MyDrive/ORL\",filename),cv2.IMREAD_GRAYSCALE)\n",
        "    if img is not None:\n",
        "       ar=img.flatten()\n",
        "     \n",
        "       images.append(ar)\n",
        "#images  \n",
        "data =np.array(images)\n",
        "data\n"
      ],
      "execution_count": 3,
      "outputs": [
        {
          "output_type": "execute_result",
          "data": {
            "text/plain": [
              "array([[ 34,  34,  33, ...,  37,  40,  33],\n",
              "       [ 42,  41,  44, ...,  42,  43,  41],\n",
              "       [ 48,  49,  45, ...,  47,  46,  46],\n",
              "       ...,\n",
              "       [113, 112, 111, ...,  87,  87,  89],\n",
              "       [112, 109, 116, ...,  93,  88,  92],\n",
              "       [111, 114, 112, ...,  88,  86,  92]], dtype=uint8)"
            ]
          },
          "metadata": {
            "tags": []
          },
          "execution_count": 3
        }
      ]
    },
    {
      "cell_type": "code",
      "metadata": {
        "id": "bSze_z3D8Oqe"
      },
      "source": [
        "vec=np.empty([400,1])\n",
        "count=0;\n",
        "for i in range(0,400):\n",
        "  if (i%10==0):\n",
        "    count+=1\n",
        "  vec[i]=count\n",
        "  \n",
        "DataLab=np.hstack((data,vec)) \n",
        "\n"
      ],
      "execution_count": 4,
      "outputs": []
    },
    {
      "cell_type": "code",
      "metadata": {
        "colab": {
          "base_uri": "https://localhost:8080/"
        },
        "id": "diCwWLhgNMxY",
        "outputId": "5bfc5856-72dd-42ff-a853-4a1cc4f0913d"
      },
      "source": [
        "test=[]\n",
        "train=[]\n",
        "trainVec=np.empty([200,1])\n",
        "testVec=np.empty([200,1])\n",
        "k=0\n",
        "l=0\n",
        "for i in range(0,400):\n",
        "  if (i%2==0):\n",
        "    train.append(data[i])\n",
        "    trainVec[k]=DataLab[i,10304]\n",
        "    k+=1\n",
        "  else:\n",
        "    test.append(data[i])\n",
        "    testVec[l]=DataLab[i,10304]\n",
        "    l+=1\n",
        "train=np.array(train)\n",
        "test=np.array(test)\n",
        "print(train.shape)\n",
        "print(test.shape)\n",
        "print(trainVec.shape)\n",
        "print(testVec.shape)\n"
      ],
      "execution_count": 6,
      "outputs": [
        {
          "output_type": "stream",
          "text": [
            "(200, 10304)\n",
            "(200, 10304)\n",
            "(200, 1)\n",
            "(200, 1)\n"
          ],
          "name": "stdout"
        }
      ]
    },
    {
      "cell_type": "markdown",
      "metadata": {
        "id": "-OzKKsXaaP9o"
      },
      "source": [
        "**Classification Using LDA**"
      ]
    },
    {
      "cell_type": "markdown",
      "metadata": {
        "id": "6IeOv1niaVYP"
      },
      "source": [
        "a. Use the pseudo code below for LDA. We will modify few lines in\n",
        "pseudocode to handle multiclass LDA.\n",
        "i. Calculate the mean vector for every class Mu1, Mu2, ..., Mu40."
      ]
    },
    {
      "cell_type": "code",
      "metadata": {
        "colab": {
          "base_uri": "https://localhost:8080/"
        },
        "id": "kofCERjs_jva",
        "outputId": "ee263366-1b49-4442-f01f-2e1297d74704"
      },
      "source": [
        "#LDA-Mean\n",
        "mean=[]\n",
        "temp=[]\n",
        "count=0\n",
        "temp.append(train[0])\n",
        "for i in range(1,200):\n",
        "  if (i%5==0):\n",
        "    mean.append(np.mean(temp,0))\n",
        "    temp.clear()\n",
        "    count+=1\n",
        "  temp.append(train[i])\n",
        " \n",
        "mean.append(np.mean(temp,0))\n",
        "\n",
        "mean=np.array(mean)\n",
        "print(\"mean : \")\n",
        "print( mean)\n",
        "mean.shape\n",
        "\n",
        "\n",
        "\n"
      ],
      "execution_count": 21,
      "outputs": [
        {
          "output_type": "stream",
          "text": [
            "mean : \n",
            "[[ 45.2  50.   51.6 ...  36.6  37.2  37. ]\n",
            " [134.4 130.6 132.8 ...  33.4  42.8  45.6]\n",
            " [ 47.   46.4  47.  ...  34.4  34.2  39. ]\n",
            " ...\n",
            " [ 56.4  56.4  57.2 ...  64.   65.4  66. ]\n",
            " [121.4 120.  120.4 ...  63.8  65.   64. ]\n",
            " [107.  107.2 110.  ...  84.6  76.8  84.2]]\n"
          ],
          "name": "stdout"
        },
        {
          "output_type": "execute_result",
          "data": {
            "text/plain": [
              "(40, 10304)"
            ]
          },
          "metadata": {
            "tags": []
          },
          "execution_count": 21
        }
      ]
    },
    {
      "cell_type": "markdown",
      "metadata": {
        "id": "r7wF-cm8arq7"
      },
      "source": [
        "ii. Replace B matrix by Sb.\n",
        "Sb = ∑nk(μk − μ)(μk − μ)"
      ]
    },
    {
      "cell_type": "code",
      "metadata": {
        "colab": {
          "base_uri": "https://localhost:8080/"
        },
        "id": "GYNZmJmmLTZg",
        "outputId": "8280e1ee-a0a5-4bd2-b4fc-70a9632813a9"
      },
      "source": [
        "#LDA Sb\n",
        "overallMean=np.mean(train,0)\n",
        "Sb=np.zeros((10304,10304))\n",
        "temp=np.empty([10304,1])\n",
        "for i in range(0,40):\n",
        "  temp=np.subtract(mean[i].reshape(10304,1),overallMean.reshape(10304,1))\n",
        "  temp=5*temp\n",
        "  Sb=np.add(Sb,np.dot(temp,np.transpose(temp)))\n",
        "print(Sb)\n",
        "Sb.shape\n"
      ],
      "execution_count": 8,
      "outputs": [
        {
          "output_type": "stream",
          "text": [
            "[[1142059.775 1126678.55  1128001.55  ... -135810.725  -94167.375\n",
            "   -55609.8  ]\n",
            " [1126678.55  1114231.1   1114159.1   ... -125802.45   -87799.75\n",
            "   -51271.6  ]\n",
            " [1128001.55  1114159.1   1116797.1   ... -135117.45   -95739.75\n",
            "   -57861.6  ]\n",
            " ...\n",
            " [-135810.725 -125802.45  -135117.45  ... 1499672.775 1461915.125\n",
            "  1424656.2  ]\n",
            " [ -94167.375  -87799.75   -95739.75  ... 1461915.125 1482471.375\n",
            "  1440093.   ]\n",
            " [ -55609.8    -51271.6    -57861.6   ... 1424656.2   1440093.\n",
            "  1425113.6  ]]\n"
          ],
          "name": "stdout"
        },
        {
          "output_type": "execute_result",
          "data": {
            "text/plain": [
              "(10304, 10304)"
            ]
          },
          "metadata": {
            "tags": []
          },
          "execution_count": 8
        }
      ]
    },
    {
      "cell_type": "markdown",
      "metadata": {
        "id": "jXjRLtQxcFKJ"
      },
      "source": [
        "iii. S matrix remains the same, but it sums S1, S2, S3, ...S40."
      ]
    },
    {
      "cell_type": "code",
      "metadata": {
        "colab": {
          "base_uri": "https://localhost:8080/"
        },
        "id": "ua0_R1wAt-Cz",
        "outputId": "ddf81c70-6464-48a0-e113-e43da384310a"
      },
      "source": [
        "#computing S total=s1+s2+s3+...\n",
        "temp=[]\n",
        "temp.append(train[0])\n",
        "empty=[]\n",
        "k=0\n",
        "St=np.zeros((10304,10304))\n",
        "Sk=[]\n",
        "centered=[]\n",
        "for i in range(1,200):\n",
        "  if (i%5==0):\n",
        "    centered=temp-np.transpose(mean[k])  \n",
        "    temp.clear()\n",
        "    k+=1\n",
        "    Sk=np.dot(np.transpose(centered),centered)\n",
        "    centered=np.array(empty)   \n",
        "    St=np.add(St,Sk)\n",
        "  temp.append(train[i])\n",
        "centered=temp-np.transpose(mean[k]) \n",
        "temp.clear()\n",
        "k+=1\n",
        "Sk=np.dot(np.transpose(centered),centered)\n",
        "centered=np.array(empty)\n",
        "St=np.add(St,Sk)\n",
        "St"
      ],
      "execution_count": 9,
      "outputs": [
        {
          "output_type": "execute_result",
          "data": {
            "text/plain": [
              "array([[ 27906.4,  27124. ,  27227.2, ...,  -2136.8,    439. ,   6393. ],\n",
              "       [ 27124. ,  28947.2,  28018.2, ...,  -2275.4,   1679. ,   6850.4],\n",
              "       [ 27227.2,  28018.2,  29013.2, ...,  -2122.6,   1946. ,   6453.8],\n",
              "       ...,\n",
              "       [ -2136.8,  -2275.4,  -2122.6, ..., 140943.2,  80518. ,  50058.4],\n",
              "       [   439. ,   1679. ,   1946. , ...,  80518. ,  88147.6,  64694.6],\n",
              "       [  6393. ,   6850.4,   6453.8, ...,  50058.4,  64694.6,  90457.2]])"
            ]
          },
          "metadata": {
            "tags": []
          },
          "execution_count": 9
        }
      ]
    },
    {
      "cell_type": "markdown",
      "metadata": {
        "id": "1Fc2z_d8cQCl"
      },
      "source": [
        "iv. Use 39 dominant eigenvectors instead of just one. You will\n",
        "have a projection matrix U39x10304."
      ]
    },
    {
      "cell_type": "code",
      "metadata": {
        "id": "_c8hhWG8B5RX"
      },
      "source": [
        "stInv=LA.inv(St)\n",
        "arr=np.dot(stInv,Sb)\n",
        "\n",
        "\n"
      ],
      "execution_count": 10,
      "outputs": []
    },
    {
      "cell_type": "code",
      "metadata": {
        "colab": {
          "base_uri": "https://localhost:8080/"
        },
        "id": "s2X0gSPS_ERa",
        "outputId": "b469db64-cff5-48dc-fcb2-56e49a0ca882"
      },
      "source": [
        "eigen_values, eigen_vectors =LA.eigh(arr)\n",
        "print( eigen_values)\n",
        "print(eigen_vectors)\n",
        "w=np.real( np.delete(eigen_vectors, np.s_[0:10265], axis=1)   )\n",
        "print(w)\n",
        "\n",
        "\n"
      ],
      "execution_count": 11,
      "outputs": [
        {
          "output_type": "stream",
          "text": [
            "[-1.17110431e+20 -6.76695942e+19 -3.35468434e+19 ...  3.34735812e+19\n",
            "  6.88736151e+19  1.17166762e+20]\n",
            "[[ 0.00749915  0.02206207 -0.00510459 ...  0.00399988 -0.02138271\n",
            "  -0.0076256 ]\n",
            " [ 0.00725071  0.02150676 -0.00527283 ...  0.00425681 -0.02100036\n",
            "  -0.00740412]\n",
            " [ 0.00725951  0.02171366 -0.00565604 ...  0.00452652 -0.0209604\n",
            "  -0.00736247]\n",
            " ...\n",
            " [ 0.01025344  0.01014426  0.0138784  ...  0.01312411  0.01017303\n",
            "   0.01035137]\n",
            " [ 0.00283254 -0.00469117  0.00399483 ...  0.00362798 -0.00469939\n",
            "   0.00286593]\n",
            " [-0.00888707 -0.0014774  -0.0181001  ... -0.01739702 -0.00150572\n",
            "  -0.00901349]]\n",
            "[[-0.01825479  0.01920133 -0.00622078 ...  0.00399988 -0.02138271\n",
            "  -0.0076256 ]\n",
            " [-0.01913118  0.0207947  -0.00611337 ...  0.00425681 -0.02100036\n",
            "  -0.00740412]\n",
            " [-0.0156959   0.01781786 -0.00469754 ...  0.00452652 -0.0209604\n",
            "  -0.00736247]\n",
            " ...\n",
            " [ 0.00970229 -0.00199065 -0.03052509 ...  0.01312411  0.01017303\n",
            "   0.01035137]\n",
            " [-0.0046861   0.00321522  0.00900207 ...  0.00362798 -0.00469939\n",
            "   0.00286593]\n",
            " [-0.00555543  0.00066715  0.01439317 ... -0.01739702 -0.00150572\n",
            "  -0.00901349]]\n"
          ],
          "name": "stdout"
        }
      ]
    },
    {
      "cell_type": "markdown",
      "metadata": {
        "id": "XfzETs9GcrAE"
      },
      "source": [
        "b. Project the training set, and test sets separately using the same\n",
        "projection matrix U. You will have 39 dimensions in the new space."
      ]
    },
    {
      "cell_type": "code",
      "metadata": {
        "id": "J6i1qmJgeYSg"
      },
      "source": [
        "\n",
        "trainRed=np.zeros((200,39))\n",
        "testRed=np.zeros((200,39))\n",
        "trainRed=np.dot(train,w)\n",
        "testRed=np.dot(test,w)\n",
        "\n",
        "\n"
      ],
      "execution_count": 12,
      "outputs": []
    },
    {
      "cell_type": "markdown",
      "metadata": {
        "id": "ICmbcggNdIsw"
      },
      "source": [
        "c. Use a simple classifier (first Nearest Neighbor to determine the class\n",
        "labels)."
      ]
    },
    {
      "cell_type": "code",
      "metadata": {
        "colab": {
          "base_uri": "https://localhost:8080/"
        },
        "id": "NnWzQL1fWT99",
        "outputId": "00122856-7343-47fb-a9ae-eeb4cfd9a97a"
      },
      "source": [
        "nas=np.transpose(trainVec)\n",
        "\n",
        "classifier = KNeighborsClassifier(n_neighbors=1)\n",
        "classifier.fit(trainRed, trainVec.ravel())  \n",
        "test_predict = classifier.predict(testRed)   \n",
        "true_predicted_count=0\n",
        "for j in range(0,200):\n",
        "   if test_predict[j] ==testVec[j]:\n",
        "      true_predicted_count+=1\n",
        "\n",
        "true_predicted_count"
      ],
      "execution_count": 13,
      "outputs": [
        {
          "output_type": "execute_result",
          "data": {
            "text/plain": [
              "190"
            ]
          },
          "metadata": {
            "tags": []
          },
          "execution_count": 13
        }
      ]
    },
    {
      "cell_type": "code",
      "metadata": {
        "colab": {
          "base_uri": "https://localhost:8080/"
        },
        "id": "iEhDluj673om",
        "outputId": "94530f36-8dbf-4a9b-eeb5-84fe308d41d9"
      },
      "source": [
        "accuracy=true_predicted_count/200\n",
        "accuracy=accuracy*100\n",
        "accuracy"
      ],
      "execution_count": 14,
      "outputs": [
        {
          "output_type": "execute_result",
          "data": {
            "text/plain": [
              "95.0"
            ]
          },
          "metadata": {
            "tags": []
          },
          "execution_count": 14
        }
      ]
    },
    {
      "cell_type": "markdown",
      "metadata": {
        "id": "ihyTs95XdOa3"
      },
      "source": [
        "Report Accuracy for the Multiclass LDA on the face recognition\n",
        "dataset."
      ]
    },
    {
      "cell_type": "code",
      "metadata": {
        "colab": {
          "base_uri": "https://localhost:8080/"
        },
        "id": "uW7YNPU4GzL7",
        "outputId": "b77fc8ff-a0d8-47c0-81fa-8be3d17e37d0"
      },
      "source": [
        "from sklearn.preprocessing import StandardScaler\n",
        "scaler = StandardScaler()\n",
        "scaler.fit(trainRed)\n",
        "\n",
        "train_pca3 = scaler.transform(trainRed)\n",
        "test_pca3 = scaler.transform(testRed)\n",
        "\n",
        "from sklearn.neighbors import KNeighborsClassifier\n",
        "classifier = KNeighborsClassifier(n_neighbors=1)\n",
        "classifier.fit(trainRed, trainVec)\n",
        "\n",
        "y_pred = classifier.predict(testRed)\n",
        "\n",
        "from sklearn.metrics import classification_report, confusion_matrix\n",
        "print(confusion_matrix(testVec, y_pred))\n",
        "print(classification_report(testVec, y_pred))"
      ],
      "execution_count": 15,
      "outputs": [
        {
          "output_type": "stream",
          "text": [
            "[[5 0 0 ... 0 0 0]\n",
            " [0 5 0 ... 0 0 0]\n",
            " [0 0 5 ... 0 0 0]\n",
            " ...\n",
            " [0 0 0 ... 5 0 0]\n",
            " [0 0 0 ... 0 5 0]\n",
            " [0 0 0 ... 0 0 5]]\n",
            "              precision    recall  f1-score   support\n",
            "\n",
            "         1.0       1.00      1.00      1.00         5\n",
            "         2.0       1.00      1.00      1.00         5\n",
            "         3.0       0.83      1.00      0.91         5\n",
            "         4.0       1.00      1.00      1.00         5\n",
            "         5.0       0.83      1.00      0.91         5\n",
            "         6.0       1.00      1.00      1.00         5\n",
            "         7.0       0.62      1.00      0.77         5\n",
            "         8.0       1.00      0.60      0.75         5\n",
            "         9.0       1.00      1.00      1.00         5\n",
            "        10.0       1.00      1.00      1.00         5\n",
            "        11.0       1.00      0.80      0.89         5\n",
            "        12.0       1.00      1.00      1.00         5\n",
            "        13.0       1.00      1.00      1.00         5\n",
            "        14.0       1.00      1.00      1.00         5\n",
            "        15.0       1.00      1.00      1.00         5\n",
            "        16.0       1.00      1.00      1.00         5\n",
            "        17.0       1.00      1.00      1.00         5\n",
            "        18.0       1.00      0.60      0.75         5\n",
            "        19.0       1.00      1.00      1.00         5\n",
            "        20.0       1.00      1.00      1.00         5\n",
            "        21.0       1.00      1.00      1.00         5\n",
            "        22.0       1.00      1.00      1.00         5\n",
            "        23.0       1.00      1.00      1.00         5\n",
            "        24.0       1.00      1.00      1.00         5\n",
            "        25.0       1.00      1.00      1.00         5\n",
            "        26.0       1.00      1.00      1.00         5\n",
            "        27.0       1.00      1.00      1.00         5\n",
            "        28.0       1.00      1.00      1.00         5\n",
            "        29.0       1.00      0.20      0.33         5\n",
            "        30.0       1.00      1.00      1.00         5\n",
            "        31.0       1.00      1.00      1.00         5\n",
            "        32.0       1.00      1.00      1.00         5\n",
            "        33.0       1.00      1.00      1.00         5\n",
            "        34.0       0.83      1.00      0.91         5\n",
            "        35.0       0.67      0.80      0.73         5\n",
            "        36.0       0.71      1.00      0.83         5\n",
            "        37.0       1.00      1.00      1.00         5\n",
            "        38.0       1.00      1.00      1.00         5\n",
            "        39.0       1.00      1.00      1.00         5\n",
            "        40.0       1.00      1.00      1.00         5\n",
            "\n",
            "    accuracy                           0.95       200\n",
            "   macro avg       0.96      0.95      0.94       200\n",
            "weighted avg       0.96      0.95      0.94       200\n",
            "\n"
          ],
          "name": "stdout"
        },
        {
          "output_type": "stream",
          "text": [
            "/usr/local/lib/python3.7/dist-packages/ipykernel_launcher.py:10: DataConversionWarning: A column-vector y was passed when a 1d array was expected. Please change the shape of y to (n_samples, ), for example using ravel().\n",
            "  # Remove the CWD from sys.path while we load stuff.\n"
          ],
          "name": "stderr"
        }
      ]
    },
    {
      "cell_type": "markdown",
      "metadata": {
        "id": "n4KWvtB5ddh_"
      },
      "source": [
        " **Classifier Tuning (LDA)**"
      ]
    },
    {
      "cell_type": "code",
      "metadata": {
        "colab": {
          "base_uri": "https://localhost:8080/"
        },
        "id": "NEOmS6EowaT-",
        "outputId": "86d83cd1-b523-485c-e2c8-2497063dde5d"
      },
      "source": [
        "acc=[]\n",
        "ks=[]\n",
        "for i in range(1, 8,2):\n",
        "  ks.append(i)\n",
        "  classifier = KNeighborsClassifier(n_neighbors=i)\n",
        "  classifier.fit(trainRed, trainVec.ravel())  \n",
        "  test_predict = classifier.predict(testRed)   \n",
        "  true_predicted_count=0\n",
        "  for j in range(0,200):\n",
        "     if test_predict[j] ==testVec[j]:\n",
        "       true_predicted_count+=1\n",
        "  accuracy=true_predicted_count/200\n",
        "  accuracy=accuracy*100\n",
        "  print(\"at k = \",i,\", accuracy = \", accuracy)\n",
        "  acc.append((true_predicted_count/200)*100)\n",
        "  \n",
        "    "
      ],
      "execution_count": 22,
      "outputs": [
        {
          "output_type": "stream",
          "text": [
            "at k =  1 , accuracy =  95.0\n",
            "at k =  3 , accuracy =  88.0\n",
            "at k =  5 , accuracy =  79.5\n",
            "at k =  7 , accuracy =  76.5\n"
          ],
          "name": "stdout"
        }
      ]
    },
    {
      "cell_type": "code",
      "metadata": {
        "colab": {
          "base_uri": "https://localhost:8080/",
          "height": 296
        },
        "id": "I8kYSsHnd9O0",
        "outputId": "6695f0e1-a009-4881-a7e4-09dc9fe5c953"
      },
      "source": [
        "plt.plot(ks, acc)\n",
        "plt.xlabel('value of k')\n",
        "plt.ylabel('accuracy')  "
      ],
      "execution_count": 23,
      "outputs": [
        {
          "output_type": "execute_result",
          "data": {
            "text/plain": [
              "Text(0, 0.5, 'accuracy')"
            ]
          },
          "metadata": {
            "tags": []
          },
          "execution_count": 23
        },
        {
          "output_type": "display_data",
          "data": {
            "image/png": "[encoded data removed]",
            "text/plain": [
              "<Figure size 432x288 with 1 Axes>"
            ]
          },
          "metadata": {
            "tags": [],
            "needs_background": "light"
          }
        }
      ]
    },
    {
      "cell_type": "markdown",
      "metadata": {
        "id": "KVtz37l_tAbw"
      },
      "source": [
        "\n",
        "**Compare vs Non-Face Images**"
      ]
    },
    {
      "cell_type": "markdown",
      "metadata": {
        "id": "sXtF-V69gPv6"
      },
      "source": [
        "a. Download non-face images and make them of the same size 92x112.\n",
        "and try to solve the classification problem faces vs. Non-faces."
      ]
    },
    {
      "cell_type": "code",
      "metadata": {
        "colab": {
          "base_uri": "https://localhost:8080/"
        },
        "id": "PG7H7FlytJOd",
        "outputId": "b5b64888-8766-4aa5-a125-99277749755a"
      },
      "source": [
        "images = []\n",
        "for filename in sorted(os.listdir(\"/content/drive/MyDrive/NonFaces\")):\n",
        "    img = cv2.imread(os.path.join(\"/content/drive/MyDrive/NonFaces\",filename),cv2.IMREAD_GRAYSCALE)\n",
        "    img=cv2.resize(img, (92,112), interpolation = cv2.INTER_AREA)\n",
        "    if img is not None:\n",
        "       ar=img.flatten()\n",
        "     \n",
        "       images.append(ar)\n",
        "#images  \n",
        "data =np.array(images)\n",
        "data"
      ],
      "execution_count": 13,
      "outputs": [
        {
          "output_type": "execute_result",
          "data": {
            "text/plain": [
              "array([[ 34,  34,  33, ...,  37,  40,  33],\n",
              "       [ 42,  41,  44, ...,  42,  43,  41],\n",
              "       [ 48,  49,  45, ...,  47,  46,  46],\n",
              "       ...,\n",
              "       [ 84,  83,  81, ..., 106, 102, 107],\n",
              "       [104, 107, 104, ..., 117, 123, 116],\n",
              "       [131, 137, 130, ..., 146, 148, 153]], dtype=uint8)"
            ]
          },
          "metadata": {
            "tags": []
          },
          "execution_count": 13
        }
      ]
    },
    {
      "cell_type": "code",
      "metadata": {
        "colab": {
          "base_uri": "https://localhost:8080/"
        },
        "id": "e_rHp5k-xSiT",
        "outputId": "632c837c-1d7e-4f71-c0a9-ca534183f9ec"
      },
      "source": [
        "vec=np.empty([400,1])\n",
        "count=0;\n",
        "for i in range(0,200):\n",
        "  \n",
        "  vec[i]=0\n",
        "\n",
        "i=0\n",
        "for i in range(200,400):\n",
        "  \n",
        "  vec[i]=1 \n",
        "print(vec.shape)  \n",
        "DataLab=np.hstack((data,vec)) \n",
        "DataLab\n"
      ],
      "execution_count": 14,
      "outputs": [
        {
          "output_type": "stream",
          "text": [
            "(400, 1)\n"
          ],
          "name": "stdout"
        },
        {
          "output_type": "execute_result",
          "data": {
            "text/plain": [
              "array([[ 34.,  34.,  33., ...,  40.,  33.,   0.],\n",
              "       [ 42.,  41.,  44., ...,  43.,  41.,   0.],\n",
              "       [ 48.,  49.,  45., ...,  46.,  46.,   0.],\n",
              "       ...,\n",
              "       [ 84.,  83.,  81., ..., 102., 107.,   1.],\n",
              "       [104., 107., 104., ..., 123., 116.,   1.],\n",
              "       [131., 137., 130., ..., 148., 153.,   1.]])"
            ]
          },
          "metadata": {
            "tags": []
          },
          "execution_count": 14
        }
      ]
    },
    {
      "cell_type": "code",
      "metadata": {
        "colab": {
          "base_uri": "https://localhost:8080/"
        },
        "id": "80ACnkT32nkw",
        "outputId": "a8b3770d-7fe2-4a69-8049-5c1a1a9475ee"
      },
      "source": [
        "test=[]\n",
        "train=[]\n",
        "trainVec=np.empty([200,1])\n",
        "testVec=np.empty([200,1])\n",
        "k=0\n",
        "l=0\n",
        "for i in range(0,400):\n",
        "  if (i%2==0):\n",
        "    train.append(data[i])\n",
        "    trainVec[k]=DataLab[i,10304]\n",
        "    k+=1\n",
        "  else:\n",
        "    test.append(data[i])\n",
        "    testVec[l]=DataLab[i,10304]\n",
        "    l+=1\n",
        "train=np.array(train)\n",
        "test=np.array(test)\n",
        "print(train.shape)\n",
        "print(test.shape)\n",
        "print(trainVec.shape)\n",
        "print(testVec.shape)"
      ],
      "execution_count": 15,
      "outputs": [
        {
          "output_type": "stream",
          "text": [
            "(200, 10304)\n",
            "(200, 10304)\n",
            "(200, 1)\n",
            "(200, 1)\n"
          ],
          "name": "stdout"
        }
      ]
    },
    {
      "cell_type": "code",
      "metadata": {
        "colab": {
          "base_uri": "https://localhost:8080/"
        },
        "id": "5s5ILdFY275Z",
        "outputId": "0dd47b65-b7d7-488f-f2b5-d3536935cf83"
      },
      "source": [
        "mean1=[]\n",
        "mean2=[]\n",
        "temp=[]\n",
        "count=0\n",
        "temp.append(train[0])\n",
        "for i in range(1,200):\n",
        "  if (i%100==0):\n",
        "    mean1.append(np.mean(temp,0))\n",
        "    temp.clear()\n",
        "    count+=1\n",
        "  temp.append(train[i])\n",
        " \n",
        "mean2.append(np.mean(temp,0))\n",
        "mean1=np.array(mean1)\n",
        "mean1=np.transpose(mean1)\n",
        "mean2=np.array(mean2)\n",
        "mean2=np.transpose(mean2)\n",
        "print(mean1.shape)\n",
        "print(mean2.shape)\n",
        "\n",
        "\n",
        "\n"
      ],
      "execution_count": 16,
      "outputs": [
        {
          "output_type": "stream",
          "text": [
            "(10304, 1)\n",
            "(10304, 1)\n"
          ],
          "name": "stdout"
        }
      ]
    },
    {
      "cell_type": "code",
      "metadata": {
        "colab": {
          "base_uri": "https://localhost:8080/"
        },
        "id": "EQsO1Lhb49Hv",
        "outputId": "c4bb3952-adc4-4350-a902-018a3aa103dc"
      },
      "source": [
        "B2=np.dot((mean1-mean2),(mean1-mean2).T)\n",
        "print(B2)\n",
        "print(B2.shape)\n"
      ],
      "execution_count": 17,
      "outputs": [
        {
          "output_type": "stream",
          "text": [
            "[[2698.8025 2614.6435 2478.015  ... 3001.1515 3089.4665 3274.928 ]\n",
            " [2614.6435 2533.1089 2400.741  ... 2907.5641 2993.1251 3172.8032]\n",
            " [2478.015  2400.741  2275.29   ... 2755.629  2836.719  3007.008 ]\n",
            " ...\n",
            " [3001.1515 2907.5641 2755.629  ... 3337.3729 3435.5819 3641.8208]\n",
            " [3089.4665 2993.1251 2836.719  ... 3435.5819 3536.6809 3748.9888]\n",
            " [3274.928  3172.8032 3007.008  ... 3641.8208 3748.9888 3974.0416]]\n",
            "(10304, 10304)\n"
          ],
          "name": "stdout"
        }
      ]
    },
    {
      "cell_type": "code",
      "metadata": {
        "colab": {
          "base_uri": "https://localhost:8080/"
        },
        "id": "xFbJW1Ea5gHl",
        "outputId": "0e5c23d0-c64b-4cd0-f0fd-3104b5a7271e"
      },
      "source": [
        "cent1=[]\n",
        "cent2=[]\n",
        "for i in range(0,100):\n",
        "  \n",
        "  cent1.append(train[i])\n",
        "\n",
        "\n",
        "for i in range(100,200):\n",
        "  \n",
        "  cent2.append(train[i])\n",
        "print(np.shape(cent1)) \n",
        "print(np.shape(cent2)) "
      ],
      "execution_count": 18,
      "outputs": [
        {
          "output_type": "stream",
          "text": [
            "(100, 10304)\n",
            "(100, 10304)\n"
          ],
          "name": "stdout"
        }
      ]
    },
    {
      "cell_type": "code",
      "metadata": {
        "colab": {
          "base_uri": "https://localhost:8080/"
        },
        "id": "G66ALqot867j",
        "outputId": "128ae634-f77b-462d-fafc-7b757092795d"
      },
      "source": [
        "\n",
        "s1=np.dot(np.transpose(cent1),cent1)\n",
        "s2=np.dot(np.transpose(cent2),cent2)\n",
        "Stotal=np.add(s1,s2)\n",
        "print(s1.shape)\n",
        "print(s2.shape)\n",
        "print(Stotal)\n",
        "print(Stotal.shape)\n"
      ],
      "execution_count": 19,
      "outputs": [
        {
          "output_type": "stream",
          "text": [
            "(10304, 10304)\n",
            "(10304, 10304)\n",
            "[[221 246 117 ...   5  57  51]\n",
            " [246  93 227 ...  71 208 247]\n",
            " [117 227  92 ... 153  39 245]\n",
            " ...\n",
            " [  5  71 153 ...  83  57  69]\n",
            " [ 57 208  39 ...  57 157  53]\n",
            " [ 51 247 245 ...  69  53  20]]\n",
            "(10304, 10304)\n"
          ],
          "name": "stdout"
        }
      ]
    },
    {
      "cell_type": "code",
      "metadata": {
        "id": "KPa3GSKX-Ot6"
      },
      "source": [
        "Sinv=LA.inv(Stotal)\n",
        "arr=np.dot(Sinv,B2)\n"
      ],
      "execution_count": 20,
      "outputs": []
    },
    {
      "cell_type": "code",
      "metadata": {
        "colab": {
          "base_uri": "https://localhost:8080/"
        },
        "id": "1p4xA1VY_oDm",
        "outputId": "121270b1-3213-4abc-a1cf-55d9664b8f50"
      },
      "source": [
        "eigen_values, eigen_vectors =LA.eigh(arr)\n",
        "print(eigen_values)\n",
        "print(eigen_vectors)"
      ],
      "execution_count": 21,
      "outputs": [
        {
          "output_type": "stream",
          "text": [
            "[-749124.7120031  -247064.44450773 -157463.41877292 ...  157891.90235162\n",
            "  252196.55193851  744465.20416754]\n",
            "[[ 0.01321309 -0.01130974  0.01281123 ... -0.01385647  0.0109499\n",
            "   0.01352341]\n",
            " [ 0.01280207 -0.01095969  0.01241641 ... -0.01341932  0.01060594\n",
            "   0.01310065]\n",
            " [ 0.01213127 -0.01038226  0.01175918 ... -0.01272715  0.01005621\n",
            "   0.01241795]\n",
            " ...\n",
            " [-0.01732195 -0.02009632 -0.01379435 ... -0.01331577 -0.02171429\n",
            "   0.01751727]\n",
            " [ 0.01378787  0.0160197   0.01100983 ...  0.01055528  0.01723468\n",
            "  -0.01392318]\n",
            " [-0.00652547 -0.00757802 -0.00520597 ... -0.00500249 -0.00816458\n",
            "   0.0065927 ]]\n"
          ],
          "name": "stdout"
        }
      ]
    },
    {
      "cell_type": "markdown",
      "metadata": {
        "id": "ZQtC57_jgYn3"
      },
      "source": [
        "How many dominant eigenvectors will you use for the LDA\n",
        "solution?"
      ]
    },
    {
      "cell_type": "markdown",
      "metadata": {
        "id": "JztoBPVkDR_W"
      },
      "source": [
        "**4 dominant eigen vectors are sufficient**"
      ]
    },
    {
      "cell_type": "code",
      "metadata": {
        "colab": {
          "base_uri": "https://localhost:8080/"
        },
        "id": "eVjsS3WUBRdP",
        "outputId": "00b61de8-5938-468b-a554-4e138d6ce076"
      },
      "source": [
        "w=np.real( np.delete(eigen_vectors, np.s_[0:10300], axis=1)   )\n",
        "print(w)\n",
        "trainRed=np.zeros((200,4))\n",
        "testRed=np.zeros((200,4))\n",
        "trainRed=np.dot(train,w)\n",
        "testRed=np.dot(test,w)"
      ],
      "execution_count": 22,
      "outputs": [
        {
          "output_type": "stream",
          "text": [
            "[[ 0.00714293 -0.01385647  0.0109499   0.01352341]\n",
            " [ 0.00691616 -0.01341932  0.01060594  0.01310065]\n",
            " [ 0.00656199 -0.01272715  0.01005621  0.01241795]\n",
            " ...\n",
            " [-0.02166711 -0.01331577 -0.02171429  0.01751727]\n",
            " [ 0.01714324  0.01055528  0.01723468 -0.01392318]\n",
            " [-0.00812985 -0.00500249 -0.00816458  0.0065927 ]]\n"
          ],
          "name": "stdout"
        }
      ]
    },
    {
      "cell_type": "code",
      "metadata": {
        "colab": {
          "base_uri": "https://localhost:8080/"
        },
        "id": "Sy9jRIsUBo7m",
        "outputId": "ef817630-2491-4acc-b837-029554e8b4f5"
      },
      "source": [
        "classifier = KNeighborsClassifier(n_neighbors=1)\n",
        "classifier.fit(trainRed, trainVec.ravel())  \n",
        "test_predict = classifier.predict(testRed)   \n",
        "true_predicted_count=0\n",
        "for j in range(0,200):\n",
        "   if test_predict[j] ==testVec[j]:\n",
        "      true_predicted_count+=1\n",
        "\n",
        "true_predicted_count"
      ],
      "execution_count": 23,
      "outputs": [
        {
          "output_type": "execute_result",
          "data": {
            "text/plain": [
              "199"
            ]
          },
          "metadata": {
            "tags": []
          },
          "execution_count": 23
        }
      ]
    },
    {
      "cell_type": "code",
      "metadata": {
        "colab": {
          "base_uri": "https://localhost:8080/"
        },
        "id": "mbpyod53B2lM",
        "outputId": "b68e4344-67de-4dbf-be3b-cf22775971d6"
      },
      "source": [
        "accuracy=true_predicted_count/200\n",
        "accuracy=accuracy*100\n",
        "accuracy"
      ],
      "execution_count": 24,
      "outputs": [
        {
          "output_type": "execute_result",
          "data": {
            "text/plain": [
              "99.5"
            ]
          },
          "metadata": {
            "tags": []
          },
          "execution_count": 24
        }
      ]
    },
    {
      "cell_type": "markdown",
      "metadata": {
        "id": "IhTfLV-OEzXQ"
      },
      "source": [
        "Show failure and success cases."
      ]
    },
    {
      "cell_type": "code",
      "metadata": {
        "colab": {
          "base_uri": "https://localhost:8080/"
        },
        "id": "-hAK1sjoEq3C",
        "outputId": "04ca32f5-6cad-4070-821b-2f32b4d37d34"
      },
      "source": [
        "from sklearn.preprocessing import StandardScaler\n",
        "scaler = StandardScaler()\n",
        "scaler.fit(trainRed)\n",
        "\n",
        "train_pca3 = scaler.transform(trainRed)\n",
        "test_pca3 = scaler.transform(testRed)\n",
        "\n",
        "from sklearn.neighbors import KNeighborsClassifier\n",
        "classifier = KNeighborsClassifier(n_neighbors=1)\n",
        "classifier.fit(trainRed, trainVec)\n",
        "\n",
        "y_pred = classifier.predict(testRed)\n",
        "\n",
        "from sklearn.metrics import classification_report, confusion_matrix\n",
        "print(confusion_matrix(testVec, y_pred))\n",
        "print(classification_report(testVec, y_pred))"
      ],
      "execution_count": 25,
      "outputs": [
        {
          "output_type": "stream",
          "text": [
            "[[100   0]\n",
            " [  1  99]]\n",
            "              precision    recall  f1-score   support\n",
            "\n",
            "         0.0       0.99      1.00      1.00       100\n",
            "         1.0       1.00      0.99      0.99       100\n",
            "\n",
            "    accuracy                           0.99       200\n",
            "   macro avg       1.00      0.99      0.99       200\n",
            "weighted avg       1.00      0.99      0.99       200\n",
            "\n"
          ],
          "name": "stdout"
        },
        {
          "output_type": "stream",
          "text": [
            "/usr/local/lib/python3.7/dist-packages/ipykernel_launcher.py:10: DataConversionWarning: A column-vector y was passed when a 1d array was expected. Please change the shape of y to (n_samples, ), for example using ravel().\n",
            "  # Remove the CWD from sys.path while we load stuff.\n"
          ],
          "name": "stderr"
        }
      ]
    },
    {
      "cell_type": "markdown",
      "metadata": {
        "id": "Kv7gGylfQFfS"
      },
      "source": [
        " Plot the accuracy vs the number of non-faces images while fixing\n",
        "the number of face images.\n",
        "number of non-faces images = 100"
      ]
    },
    {
      "cell_type": "code",
      "metadata": {
        "colab": {
          "base_uri": "https://localhost:8080/"
        },
        "id": "yftsUP4rR55d",
        "outputId": "844a6805-fe56-42ee-e773-139f21c34b87"
      },
      "source": [
        "newData=np.delete(data,np.s_[300:400],axis=0)\n",
        "newData.shape\n",
        "vec=np.empty([300,1])\n",
        "count=0;\n",
        "for i in range(0,200):  \n",
        "  vec[i]=0\n",
        "i=0\n",
        "for i in range(200,300):\n",
        "  vec[i]=1 \n",
        "print(vec.shape)  \n",
        "DataLab=np.hstack((newData,vec)) \n",
        "DataLab\n",
        "test=[]\n",
        "train=[]\n",
        "trainVec=np.empty([150,1])\n",
        "testVec=np.empty([150,1])\n",
        "k=0\n",
        "l=0\n",
        "for i in range(0,300):\n",
        "  if (i%2==0):\n",
        "    train.append(newData[i])\n",
        "    trainVec[k]=DataLab[i,10304]\n",
        "    k+=1\n",
        "  else:\n",
        "    test.append(newData[i])\n",
        "    testVec[l]=DataLab[i,10304]\n",
        "    l+=1\n",
        "train=np.array(train)\n",
        "test=np.array(test)\n",
        "print(train.shape)\n",
        "print(test.shape)\n",
        "print(trainVec.shape)\n",
        "print(testVec.shape)\n"
      ],
      "execution_count": 36,
      "outputs": [
        {
          "output_type": "stream",
          "text": [
            "(300, 1)\n",
            "(150, 10304)\n",
            "(150, 10304)\n",
            "(150, 1)\n",
            "(150, 1)\n"
          ],
          "name": "stdout"
        }
      ]
    },
    {
      "cell_type": "code",
      "metadata": {
        "colab": {
          "base_uri": "https://localhost:8080/"
        },
        "id": "QMQHfgtxTZ-X",
        "outputId": "1aacdc1d-c006-44df-d069-7654b2a2a08e"
      },
      "source": [
        "mean1=[]\n",
        "mean2=[]\n",
        "temp=[]\n",
        "count=0\n",
        "temp.append(train[0])\n",
        "for i in range(1,150):\n",
        "  if (i%100==0):\n",
        "    mean1.append(np.mean(temp,0))\n",
        "    temp.clear()\n",
        "    count+=1\n",
        "  temp.append(train[i])\n",
        "mean2.append(np.mean(temp,0))\n",
        "mean1=np.array(mean1)\n",
        "mean1=np.transpose(mean1)\n",
        "mean2=np.array(mean2)\n",
        "mean2=np.transpose(mean2)\n",
        "print(mean1.shape)\n",
        "print(mean2.shape)\n",
        "cent1=[]\n",
        "cent2=[]\n",
        "for i in range(0,100):\n",
        "  cent1.append(train[i])\n",
        "for i in range(100,150):\n",
        "  cent2.append(train[i])\n",
        "print(np.shape(cent1)) \n",
        "print(np.shape(cent2)) \n",
        "B2=np.dot((mean1-mean2),(mean1-mean2).T)\n",
        "print(B2)\n",
        "print(B2.shape)\n",
        "s1=np.dot(np.transpose(cent1),cent1)\n",
        "s2=np.dot(np.transpose(cent2),cent2)\n",
        "Stotal=np.add(s1,s2)\n",
        "print(s1.shape)\n",
        "print(s2.shape)\n",
        "print(Stotal)\n",
        "print(Stotal.shape)\n"
      ],
      "execution_count": 38,
      "outputs": [
        {
          "output_type": "stream",
          "text": [
            "(10304, 1)\n",
            "(10304, 1)\n",
            "(100, 10304)\n",
            "(50, 10304)\n",
            "[[3118.1056 2963.4288 2818.8032 ... 2757.3792 2849.5152 3140.4416]\n",
            " [2963.4288 2816.4249 2678.9736 ... 2620.5966 2708.1621 2984.6568]\n",
            " [2818.8032 2678.9736 2548.2304 ... 2492.7024 2575.9944 2838.9952]\n",
            " ...\n",
            " [2757.3792 2620.5966 2492.7024 ... 2438.3844 2519.8614 2777.1312]\n",
            " [2849.5152 2708.1621 2575.9944 ... 2519.8614 2604.0609 2869.9272]\n",
            " [3140.4416 2984.6568 2838.9952 ... 2777.1312 2869.9272 3162.9376]]\n",
            "(10304, 10304)\n",
            "(10304, 10304)\n",
            "(10304, 10304)\n",
            "[[105 105 155 ...  92 177 115]\n",
            " [105 111  37 ...  99 147 167]\n",
            " [155  37 105 ... 138  65  38]\n",
            " ...\n",
            " [ 92  99 138 ... 158 242  98]\n",
            " [177 147  65 ... 242 133 129]\n",
            " [115 167  38 ...  98 129 136]]\n",
            "(10304, 10304)\n"
          ],
          "name": "stdout"
        }
      ]
    },
    {
      "cell_type": "code",
      "metadata": {
        "id": "D6onTYPfU2Dm"
      },
      "source": [
        "Sinv=LA.inv(Stotal)\n",
        "arr=np.dot(Sinv,B2)"
      ],
      "execution_count": 39,
      "outputs": []
    },
    {
      "cell_type": "code",
      "metadata": {
        "colab": {
          "base_uri": "https://localhost:8080/"
        },
        "id": "pdPL9EhtU8Ut",
        "outputId": "3e7ed113-a70c-4b55-994d-d91679559266"
      },
      "source": [
        "eigen_values, eigen_vectors =LA.eigh(arr)\n",
        "print(eigen_values)\n",
        "print(eigen_vectors)"
      ],
      "execution_count": 40,
      "outputs": [
        {
          "output_type": "stream",
          "text": [
            "[-199553.64192704  -67085.1180788   -40598.45635666 ...   40189.95663684\n",
            "   67145.08088143  197730.77930194]\n",
            "[[ 0.01401945  0.01082277 -0.01313357 ...  0.0123924  -0.01105855\n",
            "   0.01420554]\n",
            " [ 0.01331887  0.0102741  -0.01245841 ...  0.01180021 -0.01052202\n",
            "   0.01350611]\n",
            " [ 0.01267958  0.00979729 -0.01189972 ...  0.01117722 -0.00998336\n",
            "   0.012836  ]\n",
            " ...\n",
            " [-0.00770324  0.00926817  0.00587265 ...  0.00614469  0.00893142\n",
            "   0.00760314]\n",
            " [-0.00351121  0.00422344  0.00267546 ...  0.00280297  0.00407312\n",
            "   0.00346648]\n",
            " [-0.0052959   0.00637069  0.00403603 ...  0.00422658  0.00614236\n",
            "   0.00522798]]\n"
          ],
          "name": "stdout"
        }
      ]
    },
    {
      "cell_type": "code",
      "metadata": {
        "colab": {
          "base_uri": "https://localhost:8080/"
        },
        "id": "KfKxR7h8Xmxn",
        "outputId": "cddf2f53-9203-4429-e2e8-780bb9e597f8"
      },
      "source": [
        "w=np.real( np.delete(eigen_vectors, np.s_[0:10300], axis=1)   )\n",
        "print(w)\n",
        "trainRed=np.zeros((200,4))\n",
        "testRed=np.zeros((200,4))\n",
        "trainRed=np.dot(train,w)\n",
        "testRed=np.dot(test,w)\n",
        "classifier = KNeighborsClassifier(n_neighbors=1)\n",
        "classifier.fit(trainRed, trainVec.ravel())  \n",
        "test_predict = classifier.predict(testRed)   \n",
        "true_predicted_count=0\n",
        "for j in range(0,150):\n",
        "   if test_predict[j] ==testVec[j]:\n",
        "      true_predicted_count+=1\n",
        "\n",
        "true_predicted_count"
      ],
      "execution_count": 41,
      "outputs": [
        {
          "output_type": "stream",
          "text": [
            "[[-0.00673307  0.0123924  -0.01105855  0.01420554]\n",
            " [-0.00641735  0.01180021 -0.01052202  0.01350611]\n",
            " [-0.00606595  0.01117722 -0.00998336  0.012836  ]\n",
            " ...\n",
            " [ 0.00954207  0.00614469  0.00893142  0.00760314]\n",
            " [ 0.0043541   0.00280297  0.00407312  0.00346648]\n",
            " [ 0.00656482  0.00422658  0.00614236  0.00522798]]\n"
          ],
          "name": "stdout"
        },
        {
          "output_type": "execute_result",
          "data": {
            "text/plain": [
              "148"
            ]
          },
          "metadata": {
            "tags": []
          },
          "execution_count": 41
        }
      ]
    },
    {
      "cell_type": "code",
      "metadata": {
        "colab": {
          "base_uri": "https://localhost:8080/",
          "height": 313
        },
        "id": "58VqMPrMYOWe",
        "outputId": "47aa4e7a-78de-49e2-84f4-f080d5bc2ec8"
      },
      "source": [
        "accuracy2=true_predicted_count/150\n",
        "accuracy2=accuracy2*100\n",
        "print(accuracy2)\n",
        "accu=np.append(accuracy2,accuracy)\n",
        "ImgNum=[100,200]\n",
        "plt.plot(ImgNum, accu)\n",
        "plt.xlabel('number of non-faces images')\n",
        "plt.ylabel('accuracy')  "
      ],
      "execution_count": 44,
      "outputs": [
        {
          "output_type": "stream",
          "text": [
            "98.66666666666667\n"
          ],
          "name": "stdout"
        },
        {
          "output_type": "execute_result",
          "data": {
            "text/plain": [
              "Text(0, 0.5, 'accuracy')"
            ]
          },
          "metadata": {
            "tags": []
          },
          "execution_count": 44
        },
        {
          "output_type": "display_data",
          "data": {
            "image/png": "[encoded data removed]",
            "text/plain": [
              "<Figure size 432x288 with 1 Axes>"
            ]
          },
          "metadata": {
            "tags": [],
            "needs_background": "light"
          }
        }
      ]
    },
    {
      "cell_type": "markdown",
      "metadata": {
        "id": "8jnUuvffFCva"
      },
      "source": [
        "**Bonus**"
      ]
    },
    {
      "cell_type": "code",
      "metadata": {
        "colab": {
          "base_uri": "https://localhost:8080/"
        },
        "id": "c895gI1_FLIL",
        "outputId": "e745682a-2f04-4c27-964c-05021a2f9df3"
      },
      "source": [
        "images = []\n",
        "for filename in sorted(os.listdir(\"/content/drive/MyDrive/ORL\")):\n",
        "    img = cv2.imread(os.path.join(\"/content/drive/MyDrive/ORL\",filename),cv2.IMREAD_GRAYSCALE)\n",
        "    if img is not None:\n",
        "       ar=img.flatten()\n",
        "     \n",
        "       images.append(ar)\n",
        "#images  \n",
        "data =np.array(images)\n",
        "data"
      ],
      "execution_count": 3,
      "outputs": [
        {
          "output_type": "execute_result",
          "data": {
            "text/plain": [
              "array([[ 34,  34,  33, ...,  37,  40,  33],\n",
              "       [ 42,  41,  44, ...,  42,  43,  41],\n",
              "       [ 48,  49,  45, ...,  47,  46,  46],\n",
              "       ...,\n",
              "       [113, 112, 111, ...,  87,  87,  89],\n",
              "       [112, 109, 116, ...,  93,  88,  92],\n",
              "       [111, 114, 112, ...,  88,  86,  92]], dtype=uint8)"
            ]
          },
          "metadata": {
            "tags": []
          },
          "execution_count": 3
        }
      ]
    },
    {
      "cell_type": "code",
      "metadata": {
        "colab": {
          "base_uri": "https://localhost:8080/"
        },
        "id": "O5FRhRPjFXez",
        "outputId": "40faad3c-d773-4514-fc74-588d4c47cb39"
      },
      "source": [
        "vec=np.empty([400,1])\n",
        "count=0;\n",
        "for i in range(0,400):\n",
        "  if (i%10==0):\n",
        "    count+=1\n",
        "  vec[i]=count\n",
        "  \n",
        "DataLab=np.hstack((data,vec)) \n",
        "DataLab.shape\n"
      ],
      "execution_count": 4,
      "outputs": [
        {
          "output_type": "execute_result",
          "data": {
            "text/plain": [
              "(400, 10305)"
            ]
          },
          "metadata": {
            "tags": []
          },
          "execution_count": 4
        }
      ]
    },
    {
      "cell_type": "markdown",
      "metadata": {
        "id": "SG7AqLW3wiOd"
      },
      "source": [
        "**Use different Training and Test splits. Change the number of\n",
        "instances per subject to be 7 and keep 3 instances per subject for testing.**"
      ]
    },
    {
      "cell_type": "code",
      "metadata": {
        "colab": {
          "base_uri": "https://localhost:8080/"
        },
        "id": "WjQgqmLcEh3_",
        "outputId": "5c6d3188-21be-4786-aad4-12ead2bacfc1"
      },
      "source": [
        "test=[]\n",
        "train=[]\n",
        "trainVec=np.empty([160,1])\n",
        "testVec=np.empty([120,1])\n",
        "k=0\n",
        "l=0\n",
        "flag=0\n",
        "counter1=7\n",
        "counter2=0\n",
        "for i in range(1,400):\n",
        "  if (counter1>0 and flag ==0 ):\n",
        "    if (i%2==0):\n",
        "      test.append(data[i])\n",
        "      testVec[l]=DataLab[i,10304]\n",
        "      l+=1\n",
        "    else :\n",
        "      train.append(data[i]) \n",
        "      trainVec[k]=DataLab[i,10304]\n",
        "      k+=1\n",
        "    counter1-=1\n",
        "    if (counter1==0):\n",
        "      flag=1\n",
        "    counter2=3\n",
        "    continue\n",
        "  if (counter2 > 0):\n",
        "  \n",
        "    \n",
        "    counter2-=1\n",
        "    if (counter2==0):\n",
        "      flag=0\n",
        "    counter1=7 \n",
        "train=np.array(train)\n",
        "test=np.array(test)\n",
        "print(train.shape)\n",
        "print(test.shape)\n",
        "print(trainVec.shape)\n",
        "print(testVec.shape)"
      ],
      "execution_count": 5,
      "outputs": [
        {
          "output_type": "stream",
          "text": [
            "(160, 10304)\n",
            "(120, 10304)\n",
            "(160, 1)\n",
            "(120, 1)\n"
          ],
          "name": "stdout"
        }
      ]
    },
    {
      "cell_type": "code",
      "metadata": {
        "colab": {
          "base_uri": "https://localhost:8080/"
        },
        "id": "L1XJ2zXcKzhp",
        "outputId": "388937fc-d6bd-4e04-83fd-0d82d1be376d"
      },
      "source": [
        "mean=[]\n",
        "temp=[]\n",
        "count=0\n",
        "temp.append(train[0])\n",
        "for i in range(1,160):\n",
        "  if (i%4==0):\n",
        "    mean.append(np.mean(temp,0))\n",
        "    temp.clear()\n",
        "    count+=1\n",
        "  temp.append(train[i])\n",
        " \n",
        "mean.append(np.mean(temp,0))\n",
        "\n",
        "mean=np.array(mean)\n",
        "print(mean.shape)\n",
        "mean\n"
      ],
      "execution_count": 6,
      "outputs": [
        {
          "output_type": "stream",
          "text": [
            "(40, 10304)\n"
          ],
          "name": "stdout"
        },
        {
          "output_type": "execute_result",
          "data": {
            "text/plain": [
              "array([[ 52.  ,  51.  ,  45.5 , ...,  68.25,  60.  ,  67.  ],\n",
              "       [136.5 , 135.  , 135.5 , ...,  20.25,  21.75,  31.5 ],\n",
              "       [ 49.5 ,  47.75,  46.25, ...,  30.75,  30.5 ,  34.75],\n",
              "       ...,\n",
              "       [ 55.5 ,  54.  ,  55.  , ...,  64.5 ,  62.5 ,  61.25],\n",
              "       [122.  , 120.  , 122.25, ...,  62.  ,  62.25,  60.  ],\n",
              "       [109.25, 111.  , 110.75, ...,  84.  ,  83.5 ,  81.  ]])"
            ]
          },
          "metadata": {
            "tags": []
          },
          "execution_count": 6
        }
      ]
    },
    {
      "cell_type": "code",
      "metadata": {
        "colab": {
          "base_uri": "https://localhost:8080/"
        },
        "id": "OAtKfa47LoDj",
        "outputId": "aa31d23e-459b-4c10-8039-235f77de45fb"
      },
      "source": [
        "overallMean=np.mean(train,0)\n",
        "\n",
        "Sb=np.zeros((10304,10304))\n",
        "\n",
        "temp=np.empty([10304,1])\n",
        "for i in range(0,40):\n",
        "  \n",
        "  temp=np.subtract(mean[i].reshape(10304,1),overallMean.reshape(10304,1))\n",
        "  temp=4*temp\n",
        "  Sb=np.add(Sb,np.dot(temp,np.transpose(temp)))\n",
        " \n",
        "\n",
        "Sb\n"
      ],
      "execution_count": 7,
      "outputs": [
        {
          "output_type": "execute_result",
          "data": {
            "text/plain": [
              "array([[ 749103.6  ,  749524.4  ,  739583.4  , ..., -110906.8  ,\n",
              "         -84074.8  ,  -61167.2  ],\n",
              "       [ 749524.4  ,  752546.975,  741335.225, ..., -105461.2  ,\n",
              "         -80509.95 ,  -57374.3  ],\n",
              "       [ 739583.4  ,  741335.225,  732708.975, ..., -113118.2  ,\n",
              "         -86204.45 ,  -65252.3  ],\n",
              "       ...,\n",
              "       [-110906.8  , -105461.2  , -113118.2  , ..., 1145148.4  ,\n",
              "        1051155.4  , 1017728.6  ],\n",
              "       [ -84074.8  ,  -80509.95 ,  -86204.45 , ..., 1051155.4  ,\n",
              "         994803.9  ,  970391.6  ],\n",
              "       [ -61167.2  ,  -57374.3  ,  -65252.3  , ..., 1017728.6  ,\n",
              "         970391.6  ,  977766.4  ]])"
            ]
          },
          "metadata": {
            "tags": []
          },
          "execution_count": 7
        }
      ]
    },
    {
      "cell_type": "code",
      "metadata": {
        "colab": {
          "base_uri": "https://localhost:8080/"
        },
        "id": "t4rohjRuL07R",
        "outputId": "d2dc4606-6aeb-4c05-8c37-276d8cd41515"
      },
      "source": [
        "#computing S total=s1+s2+s3+...\n",
        "temp=[]\n",
        "temp.append(train[0])\n",
        "empty=[]\n",
        "k=0\n",
        "St=np.zeros((10304,10304))\n",
        "Sk=[]\n",
        "centered=[]\n",
        "for i in range(1,160):\n",
        "  if (i%4==0):\n",
        "    centered=temp-np.transpose(mean[k])\n",
        "    \n",
        "    temp.clear()\n",
        "    k+=1\n",
        "    Sk=np.dot(np.transpose(centered),centered)\n",
        "    centered=np.array(empty)\n",
        "   \n",
        "    \n",
        "    St=np.add(St,Sk)\n",
        "  temp.append(train[i])\n",
        "centered=temp-np.transpose(mean[k])\n",
        " \n",
        "temp.clear()\n",
        "k+=1\n",
        "Sk=np.dot(np.transpose(centered),centered)\n",
        "centered=np.array(empty)\n",
        "St=np.add(St,Sk)\n",
        "St"
      ],
      "execution_count": 8,
      "outputs": [
        {
          "output_type": "execute_result",
          "data": {
            "text/plain": [
              "array([[18664.5 , 17874.5 , 17934.75, ...,  1586.5 ,  -400.5 , -1731.  ],\n",
              "       [17874.5 , 19410.25, 18666.25, ...,   824.75, -2017.75, -2338.  ],\n",
              "       [17934.75, 18666.25, 20335.25, ...,  1293.5 ,  -826.75, -1593.75],\n",
              "       ...,\n",
              "       [ 1586.5 ,   824.75,  1293.5 , ..., 71872.5 , 56728.25, 51422.25],\n",
              "       [ -400.5 , -2017.75,  -826.75, ..., 56728.25, 74410.  , 65149.25],\n",
              "       [-1731.  , -2338.  , -1593.75, ..., 51422.25, 65149.25, 78901.5 ]])"
            ]
          },
          "metadata": {
            "tags": []
          },
          "execution_count": 8
        }
      ]
    },
    {
      "cell_type": "code",
      "metadata": {
        "id": "Hgmmh_mKMndy"
      },
      "source": [
        "stInv=LA.inv(St)\n",
        "arr=np.dot(stInv,Sb)\n"
      ],
      "execution_count": 9,
      "outputs": []
    },
    {
      "cell_type": "code",
      "metadata": {
        "colab": {
          "base_uri": "https://localhost:8080/"
        },
        "id": "3tS_5h7bN5Pw",
        "outputId": "e1908d02-e8f4-48d7-9674-cdd48f05a8d0"
      },
      "source": [
        "eigen_values, eigen_vectors =LA.eigh(arr)\n",
        "w=np.real( np.delete(eigen_vectors, np.s_[0:10265], axis=1)   )\n",
        "print(w)\n",
        "trainRed=np.zeros((160,39))\n",
        "testRed=np.zeros((120,39))\n",
        "trainRed=np.dot(train,w)\n",
        "testRed=np.dot(test,w)"
      ],
      "execution_count": 10,
      "outputs": [
        {
          "output_type": "stream",
          "text": [
            "[[ 0.00239231 -0.00927234  0.00746086 ... -0.00296065  0.00176506\n",
            "  -0.00194198]\n",
            " [ 0.00298689 -0.01148162  0.00994731 ... -0.00334391  0.00200062\n",
            "  -0.00220199]\n",
            " [ 0.00241488 -0.00942156  0.00742204 ... -0.00287737  0.00171182\n",
            "  -0.00187888]\n",
            " ...\n",
            " [-0.00563782 -0.00029528 -0.00695126 ... -0.00165264 -0.0015103\n",
            "  -0.00242767]\n",
            " [ 0.00875538  0.00445979  0.00499052 ...  0.00396219  0.00348312\n",
            "   0.00380923]\n",
            " [-0.00016156 -0.00325369  0.0013149  ... -0.00148604 -0.00086312\n",
            "  -0.00124438]]\n"
          ],
          "name": "stdout"
        }
      ]
    },
    {
      "cell_type": "code",
      "metadata": {
        "colab": {
          "base_uri": "https://localhost:8080/"
        },
        "id": "Lrn7BpSOOHdw",
        "outputId": "61c36ba5-50f9-4727-f68c-2bb967650c91"
      },
      "source": [
        "classifier = KNeighborsClassifier(n_neighbors=1)\n",
        "classifier.fit(trainRed, trainVec.ravel())  \n",
        "test_predict = classifier.predict(testRed)   \n",
        "true_predicted_count=0\n",
        "for j in range(0,120):\n",
        "   if test_predict[j] ==testVec[j]:\n",
        "      true_predicted_count+=1\n",
        "\n",
        "true_predicted_count\n",
        "accuracy=true_predicted_count/120\n",
        "accuracy=accuracy*100\n",
        "accuracy"
      ],
      "execution_count": 11,
      "outputs": [
        {
          "output_type": "execute_result",
          "data": {
            "text/plain": [
              "91.66666666666666"
            ]
          },
          "metadata": {
            "tags": []
          },
          "execution_count": 11
        }
      ]
    },
    {
      "cell_type": "code",
      "metadata": {
        "colab": {
          "base_uri": "https://localhost:8080/"
        },
        "id": "grwc2AfNBJoZ",
        "outputId": "716f523e-9bd1-4791-fb56-a25b14f62433"
      },
      "source": [
        "from sklearn.preprocessing import StandardScaler\n",
        "scaler = StandardScaler()\n",
        "scaler.fit(trainRed)\n",
        "\n",
        "train_pca3 = scaler.transform(trainRed)\n",
        "test_pca3 = scaler.transform(testRed)\n",
        "\n",
        "from sklearn.neighbors import KNeighborsClassifier\n",
        "classifier = KNeighborsClassifier(n_neighbors=1)\n",
        "classifier.fit(trainRed, trainVec)\n",
        "\n",
        "y_pred = classifier.predict(testRed)\n",
        "\n",
        "from sklearn.metrics import classification_report, confusion_matrix\n",
        "print(confusion_matrix(testVec, y_pred))\n",
        "print(classification_report(testVec, y_pred))"
      ],
      "execution_count": 12,
      "outputs": [
        {
          "output_type": "stream",
          "text": [
            "[[1 0 0 ... 0 0 0]\n",
            " [0 2 0 ... 0 1 0]\n",
            " [0 0 3 ... 0 0 0]\n",
            " ...\n",
            " [0 0 0 ... 2 0 0]\n",
            " [0 0 0 ... 0 3 0]\n",
            " [0 0 0 ... 0 0 3]]\n",
            "              precision    recall  f1-score   support\n",
            "\n",
            "         1.0       1.00      0.33      0.50         3\n",
            "         2.0       1.00      0.67      0.80         3\n",
            "         3.0       1.00      1.00      1.00         3\n",
            "         4.0       1.00      1.00      1.00         3\n",
            "         5.0       1.00      1.00      1.00         3\n",
            "         6.0       1.00      1.00      1.00         3\n",
            "         7.0       0.75      1.00      0.86         3\n",
            "         8.0       0.75      1.00      0.86         3\n",
            "         9.0       1.00      1.00      1.00         3\n",
            "        10.0       0.75      1.00      0.86         3\n",
            "        11.0       1.00      0.67      0.80         3\n",
            "        12.0       0.75      1.00      0.86         3\n",
            "        13.0       1.00      1.00      1.00         3\n",
            "        14.0       0.75      1.00      0.86         3\n",
            "        15.0       1.00      1.00      1.00         3\n",
            "        16.0       1.00      1.00      1.00         3\n",
            "        17.0       1.00      1.00      1.00         3\n",
            "        18.0       0.75      1.00      0.86         3\n",
            "        19.0       1.00      0.67      0.80         3\n",
            "        20.0       1.00      1.00      1.00         3\n",
            "        21.0       0.75      1.00      0.86         3\n",
            "        22.0       1.00      1.00      1.00         3\n",
            "        23.0       1.00      1.00      1.00         3\n",
            "        24.0       1.00      1.00      1.00         3\n",
            "        25.0       1.00      0.67      0.80         3\n",
            "        26.0       1.00      1.00      1.00         3\n",
            "        27.0       1.00      1.00      1.00         3\n",
            "        28.0       1.00      1.00      1.00         3\n",
            "        29.0       0.50      0.33      0.40         3\n",
            "        30.0       0.75      1.00      0.86         3\n",
            "        31.0       1.00      1.00      1.00         3\n",
            "        32.0       1.00      1.00      1.00         3\n",
            "        33.0       1.00      1.00      1.00         3\n",
            "        34.0       1.00      1.00      1.00         3\n",
            "        35.0       1.00      1.00      1.00         3\n",
            "        36.0       1.00      0.67      0.80         3\n",
            "        37.0       1.00      1.00      1.00         3\n",
            "        38.0       1.00      0.67      0.80         3\n",
            "        39.0       0.75      1.00      0.86         3\n",
            "        40.0       1.00      1.00      1.00         3\n",
            "\n",
            "    accuracy                           0.92       120\n",
            "   macro avg       0.93      0.92      0.91       120\n",
            "weighted avg       0.93      0.92      0.91       120\n",
            "\n"
          ],
          "name": "stdout"
        },
        {
          "output_type": "stream",
          "text": [
            "/usr/local/lib/python3.7/dist-packages/ipykernel_launcher.py:10: DataConversionWarning: A column-vector y was passed when a 1d array was expected. Please change the shape of y to (n_samples, ), for example using ravel().\n",
            "  # Remove the CWD from sys.path while we load stuff.\n"
          ],
          "name": "stderr"
        }
      ]
    }
  ]
}